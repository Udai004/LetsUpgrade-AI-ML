{
 "cells": [
  {
   "cell_type": "code",
   "execution_count": 1,
   "metadata": {},
   "outputs": [
    {
     "name": "stdout",
     "output_type": "stream",
     "text": [
      "Enter your mail id :John@google.com\n",
      "google\n"
     ]
    }
   ],
   "source": [
    "# Question 1:\n",
    "# Assuming that we have some email addresses in the \"username@companyname.com\" format, please write program\n",
    "# to print the company name of a given email address. Both user names and company names are composed of letters\n",
    "# only.\n",
    "\n",
    "\n",
    "x= input(\"Enter your mail id :\")\n",
    "y = x.split(\"@\")[1].split(\".\")[0]\n",
    "print(y)"
   ]
  },
  {
   "cell_type": "code",
   "execution_count": 2,
   "metadata": {},
   "outputs": [
    {
     "name": "stdout",
     "output_type": "stream",
     "text": [
      "Input comma separated sequence of words : udai , is , very , good , boy\n",
      "The sequence of words after sorting alphabets are : boy,good,is,udai,very\n"
     ]
    }
   ],
   "source": [
    "# Question 2:\n",
    "# Write a program that accepts a comma-separated\n",
    "# sequence of words as input and prints the words in a comma separated sequence after sorting them alphabetically.\n",
    "\n",
    "sequence = input(\"Input comma separated sequence of words : \")\n",
    "i = [i.strip() for i in sequence.split(\",\")]\n",
    "print('The sequence of words after sorting alphabets are : ' + \",\".join(sorted(list(set(i)))))"
   ]
  },
  {
   "cell_type": "code",
   "execution_count": 3,
   "metadata": {},
   "outputs": [
    {
     "name": "stdout",
     "output_type": "stream",
     "text": [
      "{'cat', 'elephant', 'dog'}\n",
      "3\n",
      "##############################\n",
      "{'cat', 'monkey', 'elephant', 'dog'}\n",
      "4\n",
      "##############################\n",
      "{'dog', 'cat', 'lizard', 'elephant', 'monkey', 'frog'}\n",
      "6\n",
      "##############################\n",
      "{'dog', 'cat', 'elephant', 'monkey', 'frog'}\n",
      "##############################\n",
      "{'dog', 'c', 'cat', 'elephant', 'monkey', 'frog'}\n",
      "##############################\n",
      "dog\n"
     ]
    }
   ],
   "source": [
    "# Question 3:\n",
    "# Create your own Jupyter Notebook for Sets\n",
    "\n",
    "learnset = {\"dog\", \"cat\", \"elephant\"}\n",
    "print(learnset)\n",
    "print(len(learnset))\n",
    "print ('#' * 30)\n",
    "\n",
    "learnset.add(\"monkey\")\n",
    "print(learnset)\n",
    "print(len(learnset))\n",
    "print ('#' * 30)\n",
    "\n",
    "learnset.update([\"frog\", \"lizard\", \"dog\"])\n",
    "print(learnset)\n",
    "print(len(learnset))\n",
    "print ('#' * 30)\n",
    "\n",
    "learnset.remove(\"lizard\")\n",
    "print(learnset)\n",
    "print ('#' * 30)\n",
    "\n",
    "learnset.add(\"c\")\n",
    "print(learnset)\n",
    "print ('#' * 30)\n",
    "\n",
    "x = learnset.pop()\n",
    "print(x)"
   ]
  },
  {
   "cell_type": "code",
   "execution_count": 5,
   "metadata": {},
   "outputs": [
    {
     "name": "stdout",
     "output_type": "stream",
     "text": [
      "enter numbers between 1 to n seperated by comma operator with some missing value : 1,2,10,19,30\n",
      "['1', '2', '10', '19', '30']\n",
      "missing value :  [3, 4, 5, 6, 7, 8, 9, 11, 12, 13, 14, 15, 16, 17, 18, 20, 21, 22, 23, 24, 25, 26, 27, 28, 29]\n"
     ]
    }
   ],
   "source": [
    "\n",
    "# Question 4:\n",
    "# Given a list of n-1 numbers ranging from 1 to n, your task is to find the missing number. There are no duplicates\n",
    "\n",
    "st1=input(\"enter numbers between 1 to n seperated by comma operator with some missing value : \")\n",
    "st1=st1.split(\",\")\n",
    "print(st1)\n",
    "lst=[]\n",
    "result=[]\n",
    "for i in st1:\n",
    "    if i.isnumeric():\n",
    "        lst.append(int(i))\n",
    "for i in range(1,max(lst)+1):\n",
    "    if i not in lst:\n",
    "        result.append(i)\n",
    "print(\"missing value : \", result)"
   ]
  },
  {
   "cell_type": "code",
   "execution_count": 6,
   "metadata": {},
   "outputs": [
    {
     "name": "stdout",
     "output_type": "stream",
     "text": [
      "input :12 24 35 24 88 120 155 88 120 155 86\n",
      "12 24 35 86 88 120 155\n"
     ]
    }
   ],
   "source": [
    "# Question 5:\n",
    "# With a given list L, write a program to print this list L after removing all duplicate values with original order reserved.\n",
    "\n",
    "\n",
    "l= list(map(int,input('input :').strip().split()))\n",
    "x=sorted(set(l))\n",
    "x=list(map(str,x))\n",
    "print(' '.join(x))\n",
    "\n"
   ]
  },
  {
   "cell_type": "code",
   "execution_count": null,
   "metadata": {},
   "outputs": [],
   "source": []
  },
  {
   "cell_type": "code",
   "execution_count": null,
   "metadata": {},
   "outputs": [],
   "source": []
  },
  {
   "cell_type": "code",
   "execution_count": null,
   "metadata": {},
   "outputs": [],
   "source": []
  },
  {
   "cell_type": "code",
   "execution_count": null,
   "metadata": {},
   "outputs": [],
   "source": []
  }
 ],
 "metadata": {
  "kernelspec": {
   "display_name": "Python 3",
   "language": "python",
   "name": "python3"
  },
  "language_info": {
   "codemirror_mode": {
    "name": "ipython",
    "version": 3
   },
   "file_extension": ".py",
   "mimetype": "text/x-python",
   "name": "python",
   "nbconvert_exporter": "python",
   "pygments_lexer": "ipython3",
   "version": "3.7.1"
  }
 },
 "nbformat": 4,
 "nbformat_minor": 2
}
