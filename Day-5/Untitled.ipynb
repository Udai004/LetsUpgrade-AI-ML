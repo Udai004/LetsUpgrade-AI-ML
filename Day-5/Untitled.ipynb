{
 "cells": [
  {
   "cell_type": "markdown",
   "metadata": {},
   "source": [
    "Question 1 :\n",
    "Write a Python program to find the first 20 non-even prime natural numbers.\n",
    "\n",
    "Question 2 :\n",
    "Write a Python program to implement 15 functions of string.\n",
    "\n",
    "Question 3:\n",
    "Write a Python program to check if the given string is a Palindrome or Anagram or None of them.\n",
    "Display the message accordingly to the user.\n",
    "\n",
    "Question 4:\n",
    "Write a Python's user defined function that removes all the additional characters from the string\n",
    "and converts it finally to lower case using built-in lower(). eg: If the string is \"Dr. Darshan Ingle\n",
    "@AI-ML Trainer\", then the output be \"drdarshaningleaimltrainer"
   ]
  },
  {
   "cell_type": "code",
   "execution_count": 28,
   "metadata": {},
   "outputs": [],
   "source": [
    "# Question 1 : Write a Python program to find the first 20 non-even prime natural numbers.\n",
    "#Answer:\n",
    "\n",
    "\n",
    "def prime_num (num):\n",
    "    mod_var = int(num) % 10\n",
    "    if num in(1,2,3,5,7):\n",
    "        print(num , \" is prime number\")\n",
    "    elif num > 2:\n",
    "        if mod_var in (2,4,6,8):\n",
    "            print(num , \" is not prime number\")\n",
    "        elif mod_var in (0,5):\n",
    "            print(num , \" is not prime number\")\n",
    "        elif mod_var in (1,3,7,9):\n",
    "            if ( num % 3 ==0 or num % 7 ==0 ):\n",
    "                print(num , \" is not prime number\")\n",
    "            else :\n",
    "                print(num ,\" is prime number\")\n",
    "\n",
    "    else:\n",
    "        print(\" enter the natural number i.e., from 1 to n\")\n",
    "        \n"
   ]
  },
  {
   "cell_type": "code",
   "execution_count": 32,
   "metadata": {},
   "outputs": [
    {
     "name": "stdout",
     "output_type": "stream",
     "text": [
      "The 1st value of your choice: 2\n",
      "The 2nd value of your choice: 100\n",
      "3  is prime number\n",
      "5  is prime number\n",
      "7  is prime number\n",
      "9  is not prime number\n",
      "11  is prime number\n",
      "13  is prime number\n",
      "15  is not prime number\n",
      "17  is prime number\n",
      "19  is prime number\n",
      "21  is not prime number\n",
      "23  is prime number\n",
      "25  is not prime number\n",
      "27  is not prime number\n",
      "29  is prime number\n",
      "31  is prime number\n",
      "33  is not prime number\n",
      "35  is not prime number\n",
      "37  is prime number\n",
      "39  is not prime number\n",
      "41  is prime number\n",
      "43  is prime number\n",
      "45  is not prime number\n",
      "47  is prime number\n",
      "49  is not prime number\n",
      "51  is not prime number\n",
      "53  is prime number\n",
      "55  is not prime number\n",
      "57  is not prime number\n",
      "59  is prime number\n",
      "61  is prime number\n",
      "63  is not prime number\n",
      "65  is not prime number\n",
      "67  is prime number\n",
      "69  is not prime number\n",
      "71  is prime number\n",
      "73  is prime number\n",
      "75  is not prime number\n",
      "77  is not prime number\n",
      "79  is prime number\n",
      "81  is not prime number\n",
      "83  is prime number\n",
      "85  is not prime number\n",
      "87  is not prime number\n",
      "89  is prime number\n",
      "91  is not prime number\n",
      "93  is not prime number\n",
      "95  is not prime number\n",
      "97  is prime number\n",
      "99  is not prime number\n"
     ]
    }
   ],
   "source": [
    "a = int(input(\"The 1st value of your choice: \" ))\n",
    "b = int(input(\"The 2nd value of your choice: \" ))\n",
    "\n",
    "for i in range (a,b+1):\n",
    "    if i%2 != 0:\n",
    "        prime_num(i)"
   ]
  },
  {
   "cell_type": "code",
   "execution_count": 35,
   "metadata": {},
   "outputs": [
    {
     "name": "stdout",
     "output_type": "stream",
     "text": [
      "LetsUpgrade is helping in teaching AI and ML\n",
      "<class 'str'>\n",
      "Letsupgrade is helping in teaching ai and ml\n",
      "letsupgrade is helping in teaching ai and ml\n",
      "0\n",
      "False\n",
      "letsupgrade is helping in teaching ai and ml\n",
      "LETSUPGRADE IS HELPING IN TEACHING AI AND ML\n",
      "SetsUpgrade is helping in teaching AI and MS\n",
      "lETSuPGRADE IS HELPING IN TEACHING ai AND ml\n",
      "('', '', 'LetsUpgrade is helping in teaching AI and ML')\n",
      "['LetsUpgrade is helping in teaching AI and ML']\n",
      "LetsUpgrade is helping in teaching AI and MLAnd Im excited.\n",
      "IAnd Im excited.s\n",
      "15\n",
      "False\n",
      "False\n",
      "And Im excited.\n",
      "['And', 'Im', 'excited.']\n"
     ]
    }
   ],
   "source": [
    "\n",
    "# Question 2 : Write a Python program to implement 15 functions of string\n",
    "\n",
    "#Answer : \n",
    "\n",
    "a = 'LetsUpgrade is helping in teaching AI and ML'\n",
    "b = 'And Im excited.'\n",
    "print(a)\n",
    "print(type(a))\n",
    "print(a.capitalize())\n",
    "print(a.casefold())\n",
    "print(a.find(\"L\"))\n",
    "print(a.isalpha())\n",
    "print(a.lower())\n",
    "print(a.upper())\n",
    "print(a.replace('L','S'))\n",
    "print(a.swapcase())\n",
    "print(a.rpartition('Under'))\n",
    "print(a.split('Under'))\n",
    "print(a+b)\n",
    "print(b.join('Is'))\n",
    "print(len(b))\n",
    "print(b.isupper())\n",
    "print(b.islower())\n",
    "print(b.strip())\n",
    "print(b.split())"
   ]
  },
  {
   "cell_type": "code",
   "execution_count": 55,
   "metadata": {},
   "outputs": [],
   "source": [
    "# Question 3: Write a Python program to check\n",
    "#     if the given string is a Palindrome or Anagram or None of them. \n",
    "#     Display the message accordingly to the user.\n",
    "\n",
    "#Answer:\n",
    "\n",
    "\n",
    "def check_anagram():\n",
    "    if sorted(s) == sorted(t):\n",
    "        print(f\"Entered strings : {f} and {s} are Anagram\")\n",
    "    else:\n",
    "        print ( f\"Entered strings : {f} and {s} are not Anagram\")\n",
    "def check_palindrome():\n",
    "    if s == s[:: -1]:\n",
    "        print(f\"{s} is a palindrome\")\n",
    "    elif f == f[::-1]:\n",
    "        print(f\"{f} is a palindrome\")\n",
    "   \n"
   ]
  },
  {
   "cell_type": "code",
   "execution_count": 56,
   "metadata": {},
   "outputs": [
    {
     "name": "stdout",
     "output_type": "stream",
     "text": [
      "Enter 1st string of your choice: udai\n",
      "Enter 2nd string of your choice: mam\n",
      "Entered strings : udai and mam are not Anagram\n",
      "mam is a palindrome\n"
     ]
    }
   ],
   "source": [
    "f = str(input(\"Enter 1st string of your choice: \" ))\n",
    "s = str(input(\"Enter 2nd string of your choice: \" ))\n",
    "check_anagram()\n",
    "check_palindrome()"
   ]
  },
  {
   "cell_type": "code",
   "execution_count": 58,
   "metadata": {},
   "outputs": [
    {
     "name": "stdout",
     "output_type": "stream",
     "text": [
      "Enter a string: The value is very good and mail is @fail.com\n",
      "thevalueisverygoodandmailisfailcom\n"
     ]
    }
   ],
   "source": [
    "# Question 4: Write a Python's user defined function that removes all the additional\n",
    "#     characters from the string and converts it finally to lower case using built-in lower(). \n",
    "#     eg: If the string is \"Dr. Darshan Ingle @AI-ML Trainer\", then the output be \"drdarshaningleaimltrainer\n",
    "\n",
    "# Answer:\n",
    "\n",
    "def convert(string):\n",
    "    val=\"\"\n",
    "    for i in string:\n",
    "        if i.isalpha():\n",
    "            val+=i\n",
    "    return val.lower()\n",
    "\n",
    "str1 =input(\"Enter a string: \")\n",
    "print(convert(str1))"
   ]
  },
  {
   "cell_type": "code",
   "execution_count": null,
   "metadata": {},
   "outputs": [],
   "source": []
  },
  {
   "cell_type": "code",
   "execution_count": null,
   "metadata": {},
   "outputs": [],
   "source": []
  },
  {
   "cell_type": "code",
   "execution_count": null,
   "metadata": {},
   "outputs": [],
   "source": []
  },
  {
   "cell_type": "code",
   "execution_count": null,
   "metadata": {},
   "outputs": [],
   "source": []
  },
  {
   "cell_type": "code",
   "execution_count": null,
   "metadata": {},
   "outputs": [],
   "source": []
  },
  {
   "cell_type": "code",
   "execution_count": null,
   "metadata": {},
   "outputs": [],
   "source": []
  },
  {
   "cell_type": "code",
   "execution_count": null,
   "metadata": {},
   "outputs": [],
   "source": []
  },
  {
   "cell_type": "code",
   "execution_count": null,
   "metadata": {},
   "outputs": [],
   "source": []
  },
  {
   "cell_type": "code",
   "execution_count": null,
   "metadata": {},
   "outputs": [],
   "source": []
  },
  {
   "cell_type": "code",
   "execution_count": null,
   "metadata": {},
   "outputs": [],
   "source": []
  }
 ],
 "metadata": {
  "kernelspec": {
   "display_name": "Python 3",
   "language": "python",
   "name": "python3"
  },
  "language_info": {
   "codemirror_mode": {
    "name": "ipython",
    "version": 3
   },
   "file_extension": ".py",
   "mimetype": "text/x-python",
   "name": "python",
   "nbconvert_exporter": "python",
   "pygments_lexer": "ipython3",
   "version": "3.7.1"
  }
 },
 "nbformat": 4,
 "nbformat_minor": 2
}
