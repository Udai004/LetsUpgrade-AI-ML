{
 "cells": [
  {
   "cell_type": "raw",
   "metadata": {},
   "source": [
    "We will collect text data using Twitter API."
   ]
  },
  {
   "cell_type": "code",
   "execution_count": 2,
   "metadata": {},
   "outputs": [
    {
     "name": "stdout",
     "output_type": "stream",
     "text": [
      "Collecting tweepy\n",
      "  Downloading tweepy-3.9.0-py2.py3-none-any.whl (30 kB)\n",
      "Requirement already satisfied: six>=1.10.0 in c:\\users\\udais\\anaconda3\\lib\\site-packages (from tweepy) (1.15.0)\n",
      "Requirement already satisfied: requests[socks]>=2.11.1 in c:\\users\\udais\\anaconda3\\lib\\site-packages (from tweepy) (2.24.0)\n",
      "Requirement already satisfied: requests-oauthlib>=0.7.0 in c:\\users\\udais\\anaconda3\\lib\\site-packages (from tweepy) (1.3.0)\n",
      "Requirement already satisfied: chardet<4,>=3.0.2 in c:\\users\\udais\\anaconda3\\lib\\site-packages (from requests[socks]>=2.11.1->tweepy) (3.0.4)\n",
      "Requirement already satisfied: idna<3,>=2.5 in c:\\users\\udais\\anaconda3\\lib\\site-packages (from requests[socks]>=2.11.1->tweepy) (2.10)\n",
      "Requirement already satisfied: urllib3!=1.25.0,!=1.25.1,<1.26,>=1.21.1 in c:\\users\\udais\\anaconda3\\lib\\site-packages (from requests[socks]>=2.11.1->tweepy) (1.25.9)\n",
      "Requirement already satisfied: certifi>=2017.4.17 in c:\\users\\udais\\anaconda3\\lib\\site-packages (from requests[socks]>=2.11.1->tweepy) (2020.6.20)\n",
      "Requirement already satisfied: PySocks!=1.5.7,>=1.5.6; extra == \"socks\" in c:\\users\\udais\\anaconda3\\lib\\site-packages (from requests[socks]>=2.11.1->tweepy) (1.7.1)\n",
      "Requirement already satisfied: oauthlib>=3.0.0 in c:\\users\\udais\\anaconda3\\lib\\site-packages (from requests-oauthlib>=0.7.0->tweepy) (3.1.0)\n",
      "Installing collected packages: tweepy\n",
      "Successfully installed tweepy-3.9.0\n"
     ]
    }
   ],
   "source": [
    "!pip install tweepy"
   ]
  },
  {
   "cell_type": "code",
   "execution_count": 3,
   "metadata": {},
   "outputs": [
    {
     "name": "stdout",
     "output_type": "stream",
     "text": [
      "Requirement already satisfied: openpyxl in c:\\users\\udais\\anaconda3\\lib\\site-packages (3.0.4)\n",
      "Requirement already satisfied: jdcal in c:\\users\\udais\\anaconda3\\lib\\site-packages (from openpyxl) (1.4.1)\n",
      "Requirement already satisfied: et-xmlfile in c:\\users\\udais\\anaconda3\\lib\\site-packages (from openpyxl) (1.0.1)\n"
     ]
    }
   ],
   "source": [
    "!pip install openpyxl"
   ]
  },
  {
   "cell_type": "code",
   "execution_count": 4,
   "metadata": {},
   "outputs": [],
   "source": [
    "import numpy as np\n",
    "import pandas as pd\n",
    "import tweepy\n",
    "import json\n",
    "from tweepy import OAuthHandler"
   ]
  },
  {
   "cell_type": "markdown",
   "metadata": {},
   "source": [
    "for security reasons not providing consumer_key, consumer_secret,  access_token ,access_token_secret"
   ]
  },
  {
   "cell_type": "code",
   "execution_count": 6,
   "metadata": {},
   "outputs": [],
   "source": [
    "auth = tweepy.OAuthHandler( consumer_key , consumer_secret )\n",
    "auth.set_access_token( access_token , access_token_secret )\n",
    "api = tweepy.API(auth)"
   ]
  },
  {
   "cell_type": "code",
   "execution_count": 7,
   "metadata": {},
   "outputs": [],
   "source": [
    "query = \"RCB winning IPL\""
   ]
  },
  {
   "cell_type": "code",
   "execution_count": 8,
   "metadata": {},
   "outputs": [
    {
     "name": "stdout",
     "output_type": "stream",
     "text": [
      "Status(_api=<tweepy.api.API object at 0x00000236CB17F3A0>, _json={'created_at': 'Thu Oct 29 09:39:26 +0000 2020', 'id': 1321748468616949762, 'id_str': '1321748468616949762', 'full_text': \"@anjubharatrawat I won't Say Rishabh Pant now as well bcoz i feel he will still play a big role in DC winning the 1st IPL title this year and Playoffs awaits us after games against RCB and MI\", 'truncated': False, 'display_text_range': [17, 191], 'entities': {'hashtags': [], 'symbols': [], 'user_mentions': [{'screen_name': 'anjubharatrawat', 'name': 'Anju Negi Rawat', 'id': 3181258585, 'id_str': '3181258585', 'indices': [0, 16]}], 'urls': []}, 'metadata': {'iso_language_code': 'en', 'result_type': 'recent'}, 'source': '<a href=\"http://twitter.com/download/android\" rel=\"nofollow\">Twitter for Android</a>', 'in_reply_to_status_id': 1321747997013680128, 'in_reply_to_status_id_str': '1321747997013680128', 'in_reply_to_user_id': 3181258585, 'in_reply_to_user_id_str': '3181258585', 'in_reply_to_screen_name': 'anjubharatrawat', 'user': {'id': 1213420519266979840, 'id_str': '1213420519266979840', 'name': 'Aamej Shreyansh', 'screen_name': 'amazing_fandom', 'location': '', 'description': 'In it to Win It', 'url': None, 'entities': {'description': {'urls': []}}, 'protected': False, 'followers_count': 1121, 'friends_count': 1426, 'listed_count': 0, 'created_at': 'Sat Jan 04 11:23:05 +0000 2020', 'favourites_count': 57159, 'utc_offset': None, 'time_zone': None, 'geo_enabled': False, 'verified': False, 'statuses_count': 58389, 'lang': None, 'contributors_enabled': False, 'is_translator': False, 'is_translation_enabled': False, 'profile_background_color': 'F5F8FA', 'profile_background_image_url': None, 'profile_background_image_url_https': None, 'profile_background_tile': False, 'profile_image_url': 'http://pbs.twimg.com/profile_images/1303292426736467968/7ToBlu3C_normal.jpg', 'profile_image_url_https': 'https://pbs.twimg.com/profile_images/1303292426736467968/7ToBlu3C_normal.jpg', 'profile_banner_url': 'https://pbs.twimg.com/profile_banners/1213420519266979840/1593232021', 'profile_link_color': '1DA1F2', 'profile_sidebar_border_color': 'C0DEED', 'profile_sidebar_fill_color': 'DDEEF6', 'profile_text_color': '333333', 'profile_use_background_image': True, 'has_extended_profile': False, 'default_profile': True, 'default_profile_image': False, 'following': False, 'follow_request_sent': False, 'notifications': False, 'translator_type': 'none'}, 'geo': None, 'coordinates': None, 'place': None, 'contributors': None, 'is_quote_status': False, 'retweet_count': 0, 'favorite_count': 1, 'favorited': False, 'retweeted': False, 'lang': 'en'}, created_at=datetime.datetime(2020, 10, 29, 9, 39, 26), id=1321748468616949762, id_str='1321748468616949762', full_text=\"@anjubharatrawat I won't Say Rishabh Pant now as well bcoz i feel he will still play a big role in DC winning the 1st IPL title this year and Playoffs awaits us after games against RCB and MI\", truncated=False, display_text_range=[17, 191], entities={'hashtags': [], 'symbols': [], 'user_mentions': [{'screen_name': 'anjubharatrawat', 'name': 'Anju Negi Rawat', 'id': 3181258585, 'id_str': '3181258585', 'indices': [0, 16]}], 'urls': []}, metadata={'iso_language_code': 'en', 'result_type': 'recent'}, source='Twitter for Android', source_url='http://twitter.com/download/android', in_reply_to_status_id=1321747997013680128, in_reply_to_status_id_str='1321747997013680128', in_reply_to_user_id=3181258585, in_reply_to_user_id_str='3181258585', in_reply_to_screen_name='anjubharatrawat', author=User(_api=<tweepy.api.API object at 0x00000236CB17F3A0>, _json={'id': 1213420519266979840, 'id_str': '1213420519266979840', 'name': 'Aamej Shreyansh', 'screen_name': 'amazing_fandom', 'location': '', 'description': 'In it to Win It', 'url': None, 'entities': {'description': {'urls': []}}, 'protected': False, 'followers_count': 1121, 'friends_count': 1426, 'listed_count': 0, 'created_at': 'Sat Jan 04 11:23:05 +0000 2020', 'favourites_count': 57159, 'utc_offset': None, 'time_zone': None, 'geo_enabled': False, 'verified': False, 'statuses_count': 58389, 'lang': None, 'contributors_enabled': False, 'is_translator': False, 'is_translation_enabled': False, 'profile_background_color': 'F5F8FA', 'profile_background_image_url': None, 'profile_background_image_url_https': None, 'profile_background_tile': False, 'profile_image_url': 'http://pbs.twimg.com/profile_images/1303292426736467968/7ToBlu3C_normal.jpg', 'profile_image_url_https': 'https://pbs.twimg.com/profile_images/1303292426736467968/7ToBlu3C_normal.jpg', 'profile_banner_url': 'https://pbs.twimg.com/profile_banners/1213420519266979840/1593232021', 'profile_link_color': '1DA1F2', 'profile_sidebar_border_color': 'C0DEED', 'profile_sidebar_fill_color': 'DDEEF6', 'profile_text_color': '333333', 'profile_use_background_image': True, 'has_extended_profile': False, 'default_profile': True, 'default_profile_image': False, 'following': False, 'follow_request_sent': False, 'notifications': False, 'translator_type': 'none'}, id=1213420519266979840, id_str='1213420519266979840', name='Aamej Shreyansh', screen_name='amazing_fandom', location='', description='In it to Win It', url=None, entities={'description': {'urls': []}}, protected=False, followers_count=1121, friends_count=1426, listed_count=0, created_at=datetime.datetime(2020, 1, 4, 11, 23, 5), favourites_count=57159, utc_offset=None, time_zone=None, geo_enabled=False, verified=False, statuses_count=58389, lang=None, contributors_enabled=False, is_translator=False, is_translation_enabled=False, profile_background_color='F5F8FA', profile_background_image_url=None, profile_background_image_url_https=None, profile_background_tile=False, profile_image_url='http://pbs.twimg.com/profile_images/1303292426736467968/7ToBlu3C_normal.jpg', profile_image_url_https='https://pbs.twimg.com/profile_images/1303292426736467968/7ToBlu3C_normal.jpg', profile_banner_url='https://pbs.twimg.com/profile_banners/1213420519266979840/1593232021', profile_link_color='1DA1F2', profile_sidebar_border_color='C0DEED', profile_sidebar_fill_color='DDEEF6', profile_text_color='333333', profile_use_background_image=True, has_extended_profile=False, default_profile=True, default_profile_image=False, following=False, follow_request_sent=False, notifications=False, translator_type='none'), user=User(_api=<tweepy.api.API object at 0x00000236CB17F3A0>, _json={'id': 1213420519266979840, 'id_str': '1213420519266979840', 'name': 'Aamej Shreyansh', 'screen_name': 'amazing_fandom', 'location': '', 'description': 'In it to Win It', 'url': None, 'entities': {'description': {'urls': []}}, 'protected': False, 'followers_count': 1121, 'friends_count': 1426, 'listed_count': 0, 'created_at': 'Sat Jan 04 11:23:05 +0000 2020', 'favourites_count': 57159, 'utc_offset': None, 'time_zone': None, 'geo_enabled': False, 'verified': False, 'statuses_count': 58389, 'lang': None, 'contributors_enabled': False, 'is_translator': False, 'is_translation_enabled': False, 'profile_background_color': 'F5F8FA', 'profile_background_image_url': None, 'profile_background_image_url_https': None, 'profile_background_tile': False, 'profile_image_url': 'http://pbs.twimg.com/profile_images/1303292426736467968/7ToBlu3C_normal.jpg', 'profile_image_url_https': 'https://pbs.twimg.com/profile_images/1303292426736467968/7ToBlu3C_normal.jpg', 'profile_banner_url': 'https://pbs.twimg.com/profile_banners/1213420519266979840/1593232021', 'profile_link_color': '1DA1F2', 'profile_sidebar_border_color': 'C0DEED', 'profile_sidebar_fill_color': 'DDEEF6', 'profile_text_color': '333333', 'profile_use_background_image': True, 'has_extended_profile': False, 'default_profile': True, 'default_profile_image': False, 'following': False, 'follow_request_sent': False, 'notifications': False, 'translator_type': 'none'}, id=1213420519266979840, id_str='1213420519266979840', name='Aamej Shreyansh', screen_name='amazing_fandom', location='', description='In it to Win It', url=None, entities={'description': {'urls': []}}, protected=False, followers_count=1121, friends_count=1426, listed_count=0, created_at=datetime.datetime(2020, 1, 4, 11, 23, 5), favourites_count=57159, utc_offset=None, time_zone=None, geo_enabled=False, verified=False, statuses_count=58389, lang=None, contributors_enabled=False, is_translator=False, is_translation_enabled=False, profile_background_color='F5F8FA', profile_background_image_url=None, profile_background_image_url_https=None, profile_background_tile=False, profile_image_url='http://pbs.twimg.com/profile_images/1303292426736467968/7ToBlu3C_normal.jpg', profile_image_url_https='https://pbs.twimg.com/profile_images/1303292426736467968/7ToBlu3C_normal.jpg', profile_banner_url='https://pbs.twimg.com/profile_banners/1213420519266979840/1593232021', profile_link_color='1DA1F2', profile_sidebar_border_color='C0DEED', profile_sidebar_fill_color='DDEEF6', profile_text_color='333333', profile_use_background_image=True, has_extended_profile=False, default_profile=True, default_profile_image=False, following=False, follow_request_sent=False, notifications=False, translator_type='none'), geo=None, coordinates=None, place=None, contributors=None, is_quote_status=False, retweet_count=0, favorite_count=1, favorited=False, retweeted=False, lang='en') \n",
      "\n",
      ".....................................\n",
      "\n",
      "Status(_api=<tweepy.api.API object at 0x00000236CB17F3A0>, _json={'created_at': 'Thu Oct 29 09:35:56 +0000 2020', 'id': 1321747588463398913, 'id_str': '1321747588463398913', 'full_text': 'Twitterati reacts to #RCB captain Virat Kohli staring at Surya Kumar Yadav during his match-winning knock for #MumbaiIndians \\n\\n#MIvRCB #IPL2020 \\nhttps://t.co/HMT28jGMIw', 'truncated': False, 'display_text_range': [0, 168], 'entities': {'hashtags': [{'text': 'RCB', 'indices': [21, 25]}, {'text': 'MumbaiIndians', 'indices': [110, 124]}, {'text': 'MIvRCB', 'indices': [127, 134]}, {'text': 'IPL2020', 'indices': [135, 143]}], 'symbols': [], 'user_mentions': [], 'urls': [{'url': 'https://t.co/HMT28jGMIw', 'expanded_url': 'https://circleofcricket.com/category/IPL/58278/ipl-2020-twitterati-criticize-virat-kohli-for-his-stare-down-with-suryakumar-yadav', 'display_url': 'circleofcricket.com/category/IPL/5…', 'indices': [145, 168]}]}, 'metadata': {'iso_language_code': 'en', 'result_type': 'recent'}, 'source': '<a href=\"http://twitter.com/download/iphone\" rel=\"nofollow\">Twitter for iPhone</a>', 'in_reply_to_status_id': None, 'in_reply_to_status_id_str': None, 'in_reply_to_user_id': None, 'in_reply_to_user_id_str': None, 'in_reply_to_screen_name': None, 'user': {'id': 259843963, 'id_str': '259843963', 'name': 'Circle of Cricket', 'screen_name': 'circleofcricket', 'location': '', 'description': 'For all the latest cricket updates, follow us! For Advertisement queries - ishan@tsdcorp.co @beingishancric', 'url': 'https://t.co/8QT1PqTND5', 'entities': {'url': {'urls': [{'url': 'https://t.co/8QT1PqTND5', 'expanded_url': 'http://circleofcricket.com', 'display_url': 'circleofcricket.com', 'indices': [0, 23]}]}, 'description': {'urls': []}}, 'protected': False, 'followers_count': 112112, 'friends_count': 819, 'listed_count': 299, 'created_at': 'Wed Mar 02 18:21:08 +0000 2011', 'favourites_count': 268, 'utc_offset': None, 'time_zone': None, 'geo_enabled': True, 'verified': True, 'statuses_count': 73570, 'lang': None, 'contributors_enabled': False, 'is_translator': False, 'is_translation_enabled': False, 'profile_background_color': 'FFF04D', 'profile_background_image_url': 'http://abs.twimg.com/images/themes/theme14/bg.gif', 'profile_background_image_url_https': 'https://abs.twimg.com/images/themes/theme14/bg.gif', 'profile_background_tile': True, 'profile_image_url': 'http://pbs.twimg.com/profile_images/1294737162001362947/ecJow690_normal.jpg', 'profile_image_url_https': 'https://pbs.twimg.com/profile_images/1294737162001362947/ecJow690_normal.jpg', 'profile_banner_url': 'https://pbs.twimg.com/profile_banners/259843963/1602843128', 'profile_link_color': '0F29D4', 'profile_sidebar_border_color': 'FFFFFF', 'profile_sidebar_fill_color': 'F0C35B', 'profile_text_color': '333333', 'profile_use_background_image': True, 'has_extended_profile': False, 'default_profile': False, 'default_profile_image': False, 'following': False, 'follow_request_sent': False, 'notifications': False, 'translator_type': 'none'}, 'geo': None, 'coordinates': None, 'place': None, 'contributors': None, 'is_quote_status': False, 'retweet_count': 0, 'favorite_count': 13, 'favorited': False, 'retweeted': False, 'possibly_sensitive': False, 'lang': 'en'}, created_at=datetime.datetime(2020, 10, 29, 9, 35, 56), id=1321747588463398913, id_str='1321747588463398913', full_text='Twitterati reacts to #RCB captain Virat Kohli staring at Surya Kumar Yadav during his match-winning knock for #MumbaiIndians \\n\\n#MIvRCB #IPL2020 \\nhttps://t.co/HMT28jGMIw', truncated=False, display_text_range=[0, 168], entities={'hashtags': [{'text': 'RCB', 'indices': [21, 25]}, {'text': 'MumbaiIndians', 'indices': [110, 124]}, {'text': 'MIvRCB', 'indices': [127, 134]}, {'text': 'IPL2020', 'indices': [135, 143]}], 'symbols': [], 'user_mentions': [], 'urls': [{'url': 'https://t.co/HMT28jGMIw', 'expanded_url': 'https://circleofcricket.com/category/IPL/58278/ipl-2020-twitterati-criticize-virat-kohli-for-his-stare-down-with-suryakumar-yadav', 'display_url': 'circleofcricket.com/category/IPL/5…', 'indices': [145, 168]}]}, metadata={'iso_language_code': 'en', 'result_type': 'recent'}, source='Twitter for iPhone', source_url='http://twitter.com/download/iphone', in_reply_to_status_id=None, in_reply_to_status_id_str=None, in_reply_to_user_id=None, in_reply_to_user_id_str=None, in_reply_to_screen_name=None, author=User(_api=<tweepy.api.API object at 0x00000236CB17F3A0>, _json={'id': 259843963, 'id_str': '259843963', 'name': 'Circle of Cricket', 'screen_name': 'circleofcricket', 'location': '', 'description': 'For all the latest cricket updates, follow us! For Advertisement queries - ishan@tsdcorp.co @beingishancric', 'url': 'https://t.co/8QT1PqTND5', 'entities': {'url': {'urls': [{'url': 'https://t.co/8QT1PqTND5', 'expanded_url': 'http://circleofcricket.com', 'display_url': 'circleofcricket.com', 'indices': [0, 23]}]}, 'description': {'urls': []}}, 'protected': False, 'followers_count': 112112, 'friends_count': 819, 'listed_count': 299, 'created_at': 'Wed Mar 02 18:21:08 +0000 2011', 'favourites_count': 268, 'utc_offset': None, 'time_zone': None, 'geo_enabled': True, 'verified': True, 'statuses_count': 73570, 'lang': None, 'contributors_enabled': False, 'is_translator': False, 'is_translation_enabled': False, 'profile_background_color': 'FFF04D', 'profile_background_image_url': 'http://abs.twimg.com/images/themes/theme14/bg.gif', 'profile_background_image_url_https': 'https://abs.twimg.com/images/themes/theme14/bg.gif', 'profile_background_tile': True, 'profile_image_url': 'http://pbs.twimg.com/profile_images/1294737162001362947/ecJow690_normal.jpg', 'profile_image_url_https': 'https://pbs.twimg.com/profile_images/1294737162001362947/ecJow690_normal.jpg', 'profile_banner_url': 'https://pbs.twimg.com/profile_banners/259843963/1602843128', 'profile_link_color': '0F29D4', 'profile_sidebar_border_color': 'FFFFFF', 'profile_sidebar_fill_color': 'F0C35B', 'profile_text_color': '333333', 'profile_use_background_image': True, 'has_extended_profile': False, 'default_profile': False, 'default_profile_image': False, 'following': False, 'follow_request_sent': False, 'notifications': False, 'translator_type': 'none'}, id=259843963, id_str='259843963', name='Circle of Cricket', screen_name='circleofcricket', location='', description='For all the latest cricket updates, follow us! For Advertisement queries - ishan@tsdcorp.co @beingishancric', url='https://t.co/8QT1PqTND5', entities={'url': {'urls': [{'url': 'https://t.co/8QT1PqTND5', 'expanded_url': 'http://circleofcricket.com', 'display_url': 'circleofcricket.com', 'indices': [0, 23]}]}, 'description': {'urls': []}}, protected=False, followers_count=112112, friends_count=819, listed_count=299, created_at=datetime.datetime(2011, 3, 2, 18, 21, 8), favourites_count=268, utc_offset=None, time_zone=None, geo_enabled=True, verified=True, statuses_count=73570, lang=None, contributors_enabled=False, is_translator=False, is_translation_enabled=False, profile_background_color='FFF04D', profile_background_image_url='http://abs.twimg.com/images/themes/theme14/bg.gif', profile_background_image_url_https='https://abs.twimg.com/images/themes/theme14/bg.gif', profile_background_tile=True, profile_image_url='http://pbs.twimg.com/profile_images/1294737162001362947/ecJow690_normal.jpg', profile_image_url_https='https://pbs.twimg.com/profile_images/1294737162001362947/ecJow690_normal.jpg', profile_banner_url='https://pbs.twimg.com/profile_banners/259843963/1602843128', profile_link_color='0F29D4', profile_sidebar_border_color='FFFFFF', profile_sidebar_fill_color='F0C35B', profile_text_color='333333', profile_use_background_image=True, has_extended_profile=False, default_profile=False, default_profile_image=False, following=False, follow_request_sent=False, notifications=False, translator_type='none'), user=User(_api=<tweepy.api.API object at 0x00000236CB17F3A0>, _json={'id': 259843963, 'id_str': '259843963', 'name': 'Circle of Cricket', 'screen_name': 'circleofcricket', 'location': '', 'description': 'For all the latest cricket updates, follow us! For Advertisement queries - ishan@tsdcorp.co @beingishancric', 'url': 'https://t.co/8QT1PqTND5', 'entities': {'url': {'urls': [{'url': 'https://t.co/8QT1PqTND5', 'expanded_url': 'http://circleofcricket.com', 'display_url': 'circleofcricket.com', 'indices': [0, 23]}]}, 'description': {'urls': []}}, 'protected': False, 'followers_count': 112112, 'friends_count': 819, 'listed_count': 299, 'created_at': 'Wed Mar 02 18:21:08 +0000 2011', 'favourites_count': 268, 'utc_offset': None, 'time_zone': None, 'geo_enabled': True, 'verified': True, 'statuses_count': 73570, 'lang': None, 'contributors_enabled': False, 'is_translator': False, 'is_translation_enabled': False, 'profile_background_color': 'FFF04D', 'profile_background_image_url': 'http://abs.twimg.com/images/themes/theme14/bg.gif', 'profile_background_image_url_https': 'https://abs.twimg.com/images/themes/theme14/bg.gif', 'profile_background_tile': True, 'profile_image_url': 'http://pbs.twimg.com/profile_images/1294737162001362947/ecJow690_normal.jpg', 'profile_image_url_https': 'https://pbs.twimg.com/profile_images/1294737162001362947/ecJow690_normal.jpg', 'profile_banner_url': 'https://pbs.twimg.com/profile_banners/259843963/1602843128', 'profile_link_color': '0F29D4', 'profile_sidebar_border_color': 'FFFFFF', 'profile_sidebar_fill_color': 'F0C35B', 'profile_text_color': '333333', 'profile_use_background_image': True, 'has_extended_profile': False, 'default_profile': False, 'default_profile_image': False, 'following': False, 'follow_request_sent': False, 'notifications': False, 'translator_type': 'none'}, id=259843963, id_str='259843963', name='Circle of Cricket', screen_name='circleofcricket', location='', description='For all the latest cricket updates, follow us! For Advertisement queries - ishan@tsdcorp.co @beingishancric', url='https://t.co/8QT1PqTND5', entities={'url': {'urls': [{'url': 'https://t.co/8QT1PqTND5', 'expanded_url': 'http://circleofcricket.com', 'display_url': 'circleofcricket.com', 'indices': [0, 23]}]}, 'description': {'urls': []}}, protected=False, followers_count=112112, friends_count=819, listed_count=299, created_at=datetime.datetime(2011, 3, 2, 18, 21, 8), favourites_count=268, utc_offset=None, time_zone=None, geo_enabled=True, verified=True, statuses_count=73570, lang=None, contributors_enabled=False, is_translator=False, is_translation_enabled=False, profile_background_color='FFF04D', profile_background_image_url='http://abs.twimg.com/images/themes/theme14/bg.gif', profile_background_image_url_https='https://abs.twimg.com/images/themes/theme14/bg.gif', profile_background_tile=True, profile_image_url='http://pbs.twimg.com/profile_images/1294737162001362947/ecJow690_normal.jpg', profile_image_url_https='https://pbs.twimg.com/profile_images/1294737162001362947/ecJow690_normal.jpg', profile_banner_url='https://pbs.twimg.com/profile_banners/259843963/1602843128', profile_link_color='0F29D4', profile_sidebar_border_color='FFFFFF', profile_sidebar_fill_color='F0C35B', profile_text_color='333333', profile_use_background_image=True, has_extended_profile=False, default_profile=False, default_profile_image=False, following=False, follow_request_sent=False, notifications=False, translator_type='none'), geo=None, coordinates=None, place=None, contributors=None, is_quote_status=False, retweet_count=0, favorite_count=13, favorited=False, retweeted=False, possibly_sensitive=False, lang='en') \n",
      "\n",
      ".....................................\n",
      "\n",
      "Status(_api=<tweepy.api.API object at 0x00000236CB17F3A0>, _json={'created_at': 'Thu Oct 29 09:26:50 +0000 2020', 'id': 1321745298339688449, 'id_str': '1321745298339688449', 'full_text': 'Cheap antics-100%, performance-0%, winning % as RCB captain-47%, Highest auction price -17 crores. We are just done with this guy Kohli. RCB management should sack him right away if they ever intend to win IPL. Buy Kane Williamson as next year captain #RCBvsMI #IPLinUAE', 'truncated': False, 'display_text_range': [0, 270], 'entities': {'hashtags': [{'text': 'RCBvsMI', 'indices': [252, 260]}, {'text': 'IPLinUAE', 'indices': [261, 270]}], 'symbols': [], 'user_mentions': [], 'urls': []}, 'metadata': {'iso_language_code': 'en', 'result_type': 'recent'}, 'source': '<a href=\"https://mobile.twitter.com\" rel=\"nofollow\">Twitter Web App</a>', 'in_reply_to_status_id': None, 'in_reply_to_status_id_str': None, 'in_reply_to_user_id': None, 'in_reply_to_user_id_str': None, 'in_reply_to_screen_name': None, 'user': {'id': 1252666466819661831, 'id_str': '1252666466819661831', 'name': 'thesouthernwoman', 'screen_name': 'thesouthernwom1', 'location': '', 'description': '', 'url': None, 'entities': {'description': {'urls': []}}, 'protected': False, 'followers_count': 1, 'friends_count': 49, 'listed_count': 0, 'created_at': 'Tue Apr 21 18:32:38 +0000 2020', 'favourites_count': 9, 'utc_offset': None, 'time_zone': None, 'geo_enabled': False, 'verified': False, 'statuses_count': 70, 'lang': None, 'contributors_enabled': False, 'is_translator': False, 'is_translation_enabled': False, 'profile_background_color': 'F5F8FA', 'profile_background_image_url': None, 'profile_background_image_url_https': None, 'profile_background_tile': False, 'profile_image_url': 'http://pbs.twimg.com/profile_images/1252668000601206790/viAj6nBa_normal.jpg', 'profile_image_url_https': 'https://pbs.twimg.com/profile_images/1252668000601206790/viAj6nBa_normal.jpg', 'profile_link_color': '1DA1F2', 'profile_sidebar_border_color': 'C0DEED', 'profile_sidebar_fill_color': 'DDEEF6', 'profile_text_color': '333333', 'profile_use_background_image': True, 'has_extended_profile': False, 'default_profile': True, 'default_profile_image': False, 'following': False, 'follow_request_sent': False, 'notifications': False, 'translator_type': 'none'}, 'geo': None, 'coordinates': None, 'place': None, 'contributors': None, 'is_quote_status': False, 'retweet_count': 0, 'favorite_count': 0, 'favorited': False, 'retweeted': False, 'lang': 'en'}, created_at=datetime.datetime(2020, 10, 29, 9, 26, 50), id=1321745298339688449, id_str='1321745298339688449', full_text='Cheap antics-100%, performance-0%, winning % as RCB captain-47%, Highest auction price -17 crores. We are just done with this guy Kohli. RCB management should sack him right away if they ever intend to win IPL. Buy Kane Williamson as next year captain #RCBvsMI #IPLinUAE', truncated=False, display_text_range=[0, 270], entities={'hashtags': [{'text': 'RCBvsMI', 'indices': [252, 260]}, {'text': 'IPLinUAE', 'indices': [261, 270]}], 'symbols': [], 'user_mentions': [], 'urls': []}, metadata={'iso_language_code': 'en', 'result_type': 'recent'}, source='Twitter Web App', source_url='https://mobile.twitter.com', in_reply_to_status_id=None, in_reply_to_status_id_str=None, in_reply_to_user_id=None, in_reply_to_user_id_str=None, in_reply_to_screen_name=None, author=User(_api=<tweepy.api.API object at 0x00000236CB17F3A0>, _json={'id': 1252666466819661831, 'id_str': '1252666466819661831', 'name': 'thesouthernwoman', 'screen_name': 'thesouthernwom1', 'location': '', 'description': '', 'url': None, 'entities': {'description': {'urls': []}}, 'protected': False, 'followers_count': 1, 'friends_count': 49, 'listed_count': 0, 'created_at': 'Tue Apr 21 18:32:38 +0000 2020', 'favourites_count': 9, 'utc_offset': None, 'time_zone': None, 'geo_enabled': False, 'verified': False, 'statuses_count': 70, 'lang': None, 'contributors_enabled': False, 'is_translator': False, 'is_translation_enabled': False, 'profile_background_color': 'F5F8FA', 'profile_background_image_url': None, 'profile_background_image_url_https': None, 'profile_background_tile': False, 'profile_image_url': 'http://pbs.twimg.com/profile_images/1252668000601206790/viAj6nBa_normal.jpg', 'profile_image_url_https': 'https://pbs.twimg.com/profile_images/1252668000601206790/viAj6nBa_normal.jpg', 'profile_link_color': '1DA1F2', 'profile_sidebar_border_color': 'C0DEED', 'profile_sidebar_fill_color': 'DDEEF6', 'profile_text_color': '333333', 'profile_use_background_image': True, 'has_extended_profile': False, 'default_profile': True, 'default_profile_image': False, 'following': False, 'follow_request_sent': False, 'notifications': False, 'translator_type': 'none'}, id=1252666466819661831, id_str='1252666466819661831', name='thesouthernwoman', screen_name='thesouthernwom1', location='', description='', url=None, entities={'description': {'urls': []}}, protected=False, followers_count=1, friends_count=49, listed_count=0, created_at=datetime.datetime(2020, 4, 21, 18, 32, 38), favourites_count=9, utc_offset=None, time_zone=None, geo_enabled=False, verified=False, statuses_count=70, lang=None, contributors_enabled=False, is_translator=False, is_translation_enabled=False, profile_background_color='F5F8FA', profile_background_image_url=None, profile_background_image_url_https=None, profile_background_tile=False, profile_image_url='http://pbs.twimg.com/profile_images/1252668000601206790/viAj6nBa_normal.jpg', profile_image_url_https='https://pbs.twimg.com/profile_images/1252668000601206790/viAj6nBa_normal.jpg', profile_link_color='1DA1F2', profile_sidebar_border_color='C0DEED', profile_sidebar_fill_color='DDEEF6', profile_text_color='333333', profile_use_background_image=True, has_extended_profile=False, default_profile=True, default_profile_image=False, following=False, follow_request_sent=False, notifications=False, translator_type='none'), user=User(_api=<tweepy.api.API object at 0x00000236CB17F3A0>, _json={'id': 1252666466819661831, 'id_str': '1252666466819661831', 'name': 'thesouthernwoman', 'screen_name': 'thesouthernwom1', 'location': '', 'description': '', 'url': None, 'entities': {'description': {'urls': []}}, 'protected': False, 'followers_count': 1, 'friends_count': 49, 'listed_count': 0, 'created_at': 'Tue Apr 21 18:32:38 +0000 2020', 'favourites_count': 9, 'utc_offset': None, 'time_zone': None, 'geo_enabled': False, 'verified': False, 'statuses_count': 70, 'lang': None, 'contributors_enabled': False, 'is_translator': False, 'is_translation_enabled': False, 'profile_background_color': 'F5F8FA', 'profile_background_image_url': None, 'profile_background_image_url_https': None, 'profile_background_tile': False, 'profile_image_url': 'http://pbs.twimg.com/profile_images/1252668000601206790/viAj6nBa_normal.jpg', 'profile_image_url_https': 'https://pbs.twimg.com/profile_images/1252668000601206790/viAj6nBa_normal.jpg', 'profile_link_color': '1DA1F2', 'profile_sidebar_border_color': 'C0DEED', 'profile_sidebar_fill_color': 'DDEEF6', 'profile_text_color': '333333', 'profile_use_background_image': True, 'has_extended_profile': False, 'default_profile': True, 'default_profile_image': False, 'following': False, 'follow_request_sent': False, 'notifications': False, 'translator_type': 'none'}, id=1252666466819661831, id_str='1252666466819661831', name='thesouthernwoman', screen_name='thesouthernwom1', location='', description='', url=None, entities={'description': {'urls': []}}, protected=False, followers_count=1, friends_count=49, listed_count=0, created_at=datetime.datetime(2020, 4, 21, 18, 32, 38), favourites_count=9, utc_offset=None, time_zone=None, geo_enabled=False, verified=False, statuses_count=70, lang=None, contributors_enabled=False, is_translator=False, is_translation_enabled=False, profile_background_color='F5F8FA', profile_background_image_url=None, profile_background_image_url_https=None, profile_background_tile=False, profile_image_url='http://pbs.twimg.com/profile_images/1252668000601206790/viAj6nBa_normal.jpg', profile_image_url_https='https://pbs.twimg.com/profile_images/1252668000601206790/viAj6nBa_normal.jpg', profile_link_color='1DA1F2', profile_sidebar_border_color='C0DEED', profile_sidebar_fill_color='DDEEF6', profile_text_color='333333', profile_use_background_image=True, has_extended_profile=False, default_profile=True, default_profile_image=False, following=False, follow_request_sent=False, notifications=False, translator_type='none'), geo=None, coordinates=None, place=None, contributors=None, is_quote_status=False, retweet_count=0, favorite_count=0, favorited=False, retweeted=False, lang='en') \n",
      "\n",
      ".....................................\n",
      "\n",
      "Status(_api=<tweepy.api.API object at 0x00000236CB17F3A0>, _json={'created_at': 'Thu Oct 29 08:59:49 +0000 2020', 'id': 1321738500933373952, 'id_str': '1321738500933373952', 'full_text': 'Suryakumar has burning desire to don India blue: Pollard \\n\\nMumbai Indians skipper Kieron Pollard was effusive in his praise for Suryakumar Yadav, who made quite a statement with a match-winning IPL knock after being overlooked for national duty, and said… https://t.co/yQUTL0wY6A https://t.co/oqHliTzsTP', 'truncated': False, 'display_text_range': [0, 279], 'entities': {'hashtags': [], 'symbols': [], 'user_mentions': [], 'urls': [{'url': 'https://t.co/yQUTL0wY6A', 'expanded_url': 'https://ift.tt/31Sl5Dv', 'display_url': 'ift.tt/31Sl5Dv', 'indices': [256, 279]}], 'media': [{'id': 1321738499880603654, 'id_str': '1321738499880603654', 'indices': [280, 303], 'media_url': 'http://pbs.twimg.com/media/ElfCKatXUAY2-HX.jpg', 'media_url_https': 'https://pbs.twimg.com/media/ElfCKatXUAY2-HX.jpg', 'url': 'https://t.co/oqHliTzsTP', 'display_url': 'pic.twitter.com/oqHliTzsTP', 'expanded_url': 'https://twitter.com/Jaison39363599/status/1321738500933373952/photo/1', 'type': 'photo', 'sizes': {'thumb': {'w': 150, 'h': 150, 'resize': 'crop'}, 'medium': {'w': 1024, 'h': 768, 'resize': 'fit'}, 'large': {'w': 1024, 'h': 768, 'resize': 'fit'}, 'small': {'w': 680, 'h': 510, 'resize': 'fit'}}}]}, 'extended_entities': {'media': [{'id': 1321738499880603654, 'id_str': '1321738499880603654', 'indices': [280, 303], 'media_url': 'http://pbs.twimg.com/media/ElfCKatXUAY2-HX.jpg', 'media_url_https': 'https://pbs.twimg.com/media/ElfCKatXUAY2-HX.jpg', 'url': 'https://t.co/oqHliTzsTP', 'display_url': 'pic.twitter.com/oqHliTzsTP', 'expanded_url': 'https://twitter.com/Jaison39363599/status/1321738500933373952/photo/1', 'type': 'photo', 'sizes': {'thumb': {'w': 150, 'h': 150, 'resize': 'crop'}, 'medium': {'w': 1024, 'h': 768, 'resize': 'fit'}, 'large': {'w': 1024, 'h': 768, 'resize': 'fit'}, 'small': {'w': 680, 'h': 510, 'resize': 'fit'}}}]}, 'metadata': {'iso_language_code': 'en', 'result_type': 'recent'}, 'source': '<a href=\"https://ifttt.com\" rel=\"nofollow\">IFTTT</a>', 'in_reply_to_status_id': None, 'in_reply_to_status_id_str': None, 'in_reply_to_user_id': None, 'in_reply_to_user_id_str': None, 'in_reply_to_screen_name': None, 'user': {'id': 1293549057814614018, 'id_str': '1293549057814614018', 'name': 'www GiftYourHubby com', 'screen_name': 'Jaison39363599', 'location': '', 'description': 'Hidden purchase links from amazon shopping \\nBuy a unique gift for your partner\\nVisit : https://t.co/K7PmP9zbXm', 'url': None, 'entities': {'description': {'urls': [{'url': 'https://t.co/K7PmP9zbXm', 'expanded_url': 'http://www.giftyourhubby.com', 'display_url': 'giftyourhubby.com', 'indices': [87, 110]}]}}, 'protected': False, 'followers_count': 36, 'friends_count': 267, 'listed_count': 0, 'created_at': 'Wed Aug 12 14:05:12 +0000 2020', 'favourites_count': 1, 'utc_offset': None, 'time_zone': None, 'geo_enabled': False, 'verified': False, 'statuses_count': 1750, 'lang': None, 'contributors_enabled': False, 'is_translator': False, 'is_translation_enabled': False, 'profile_background_color': 'F5F8FA', 'profile_background_image_url': None, 'profile_background_image_url_https': None, 'profile_background_tile': False, 'profile_image_url': 'http://pbs.twimg.com/profile_images/1293549408005419008/YvQfBYoz_normal.jpg', 'profile_image_url_https': 'https://pbs.twimg.com/profile_images/1293549408005419008/YvQfBYoz_normal.jpg', 'profile_banner_url': 'https://pbs.twimg.com/profile_banners/1293549057814614018/1597241270', 'profile_link_color': '1DA1F2', 'profile_sidebar_border_color': 'C0DEED', 'profile_sidebar_fill_color': 'DDEEF6', 'profile_text_color': '333333', 'profile_use_background_image': True, 'has_extended_profile': True, 'default_profile': True, 'default_profile_image': False, 'following': False, 'follow_request_sent': False, 'notifications': False, 'translator_type': 'none'}, 'geo': None, 'coordinates': None, 'place': None, 'contributors': None, 'is_quote_status': False, 'retweet_count': 0, 'favorite_count': 0, 'favorited': False, 'retweeted': False, 'possibly_sensitive': False, 'lang': 'en'}, created_at=datetime.datetime(2020, 10, 29, 8, 59, 49), id=1321738500933373952, id_str='1321738500933373952', full_text='Suryakumar has burning desire to don India blue: Pollard \\n\\nMumbai Indians skipper Kieron Pollard was effusive in his praise for Suryakumar Yadav, who made quite a statement with a match-winning IPL knock after being overlooked for national duty, and said… https://t.co/yQUTL0wY6A https://t.co/oqHliTzsTP', truncated=False, display_text_range=[0, 279], entities={'hashtags': [], 'symbols': [], 'user_mentions': [], 'urls': [{'url': 'https://t.co/yQUTL0wY6A', 'expanded_url': 'https://ift.tt/31Sl5Dv', 'display_url': 'ift.tt/31Sl5Dv', 'indices': [256, 279]}], 'media': [{'id': 1321738499880603654, 'id_str': '1321738499880603654', 'indices': [280, 303], 'media_url': 'http://pbs.twimg.com/media/ElfCKatXUAY2-HX.jpg', 'media_url_https': 'https://pbs.twimg.com/media/ElfCKatXUAY2-HX.jpg', 'url': 'https://t.co/oqHliTzsTP', 'display_url': 'pic.twitter.com/oqHliTzsTP', 'expanded_url': 'https://twitter.com/Jaison39363599/status/1321738500933373952/photo/1', 'type': 'photo', 'sizes': {'thumb': {'w': 150, 'h': 150, 'resize': 'crop'}, 'medium': {'w': 1024, 'h': 768, 'resize': 'fit'}, 'large': {'w': 1024, 'h': 768, 'resize': 'fit'}, 'small': {'w': 680, 'h': 510, 'resize': 'fit'}}}]}, extended_entities={'media': [{'id': 1321738499880603654, 'id_str': '1321738499880603654', 'indices': [280, 303], 'media_url': 'http://pbs.twimg.com/media/ElfCKatXUAY2-HX.jpg', 'media_url_https': 'https://pbs.twimg.com/media/ElfCKatXUAY2-HX.jpg', 'url': 'https://t.co/oqHliTzsTP', 'display_url': 'pic.twitter.com/oqHliTzsTP', 'expanded_url': 'https://twitter.com/Jaison39363599/status/1321738500933373952/photo/1', 'type': 'photo', 'sizes': {'thumb': {'w': 150, 'h': 150, 'resize': 'crop'}, 'medium': {'w': 1024, 'h': 768, 'resize': 'fit'}, 'large': {'w': 1024, 'h': 768, 'resize': 'fit'}, 'small': {'w': 680, 'h': 510, 'resize': 'fit'}}}]}, metadata={'iso_language_code': 'en', 'result_type': 'recent'}, source='IFTTT', source_url='https://ifttt.com', in_reply_to_status_id=None, in_reply_to_status_id_str=None, in_reply_to_user_id=None, in_reply_to_user_id_str=None, in_reply_to_screen_name=None, author=User(_api=<tweepy.api.API object at 0x00000236CB17F3A0>, _json={'id': 1293549057814614018, 'id_str': '1293549057814614018', 'name': 'www GiftYourHubby com', 'screen_name': 'Jaison39363599', 'location': '', 'description': 'Hidden purchase links from amazon shopping \\nBuy a unique gift for your partner\\nVisit : https://t.co/K7PmP9zbXm', 'url': None, 'entities': {'description': {'urls': [{'url': 'https://t.co/K7PmP9zbXm', 'expanded_url': 'http://www.giftyourhubby.com', 'display_url': 'giftyourhubby.com', 'indices': [87, 110]}]}}, 'protected': False, 'followers_count': 36, 'friends_count': 267, 'listed_count': 0, 'created_at': 'Wed Aug 12 14:05:12 +0000 2020', 'favourites_count': 1, 'utc_offset': None, 'time_zone': None, 'geo_enabled': False, 'verified': False, 'statuses_count': 1750, 'lang': None, 'contributors_enabled': False, 'is_translator': False, 'is_translation_enabled': False, 'profile_background_color': 'F5F8FA', 'profile_background_image_url': None, 'profile_background_image_url_https': None, 'profile_background_tile': False, 'profile_image_url': 'http://pbs.twimg.com/profile_images/1293549408005419008/YvQfBYoz_normal.jpg', 'profile_image_url_https': 'https://pbs.twimg.com/profile_images/1293549408005419008/YvQfBYoz_normal.jpg', 'profile_banner_url': 'https://pbs.twimg.com/profile_banners/1293549057814614018/1597241270', 'profile_link_color': '1DA1F2', 'profile_sidebar_border_color': 'C0DEED', 'profile_sidebar_fill_color': 'DDEEF6', 'profile_text_color': '333333', 'profile_use_background_image': True, 'has_extended_profile': True, 'default_profile': True, 'default_profile_image': False, 'following': False, 'follow_request_sent': False, 'notifications': False, 'translator_type': 'none'}, id=1293549057814614018, id_str='1293549057814614018', name='www GiftYourHubby com', screen_name='Jaison39363599', location='', description='Hidden purchase links from amazon shopping \\nBuy a unique gift for your partner\\nVisit : https://t.co/K7PmP9zbXm', url=None, entities={'description': {'urls': [{'url': 'https://t.co/K7PmP9zbXm', 'expanded_url': 'http://www.giftyourhubby.com', 'display_url': 'giftyourhubby.com', 'indices': [87, 110]}]}}, protected=False, followers_count=36, friends_count=267, listed_count=0, created_at=datetime.datetime(2020, 8, 12, 14, 5, 12), favourites_count=1, utc_offset=None, time_zone=None, geo_enabled=False, verified=False, statuses_count=1750, lang=None, contributors_enabled=False, is_translator=False, is_translation_enabled=False, profile_background_color='F5F8FA', profile_background_image_url=None, profile_background_image_url_https=None, profile_background_tile=False, profile_image_url='http://pbs.twimg.com/profile_images/1293549408005419008/YvQfBYoz_normal.jpg', profile_image_url_https='https://pbs.twimg.com/profile_images/1293549408005419008/YvQfBYoz_normal.jpg', profile_banner_url='https://pbs.twimg.com/profile_banners/1293549057814614018/1597241270', profile_link_color='1DA1F2', profile_sidebar_border_color='C0DEED', profile_sidebar_fill_color='DDEEF6', profile_text_color='333333', profile_use_background_image=True, has_extended_profile=True, default_profile=True, default_profile_image=False, following=False, follow_request_sent=False, notifications=False, translator_type='none'), user=User(_api=<tweepy.api.API object at 0x00000236CB17F3A0>, _json={'id': 1293549057814614018, 'id_str': '1293549057814614018', 'name': 'www GiftYourHubby com', 'screen_name': 'Jaison39363599', 'location': '', 'description': 'Hidden purchase links from amazon shopping \\nBuy a unique gift for your partner\\nVisit : https://t.co/K7PmP9zbXm', 'url': None, 'entities': {'description': {'urls': [{'url': 'https://t.co/K7PmP9zbXm', 'expanded_url': 'http://www.giftyourhubby.com', 'display_url': 'giftyourhubby.com', 'indices': [87, 110]}]}}, 'protected': False, 'followers_count': 36, 'friends_count': 267, 'listed_count': 0, 'created_at': 'Wed Aug 12 14:05:12 +0000 2020', 'favourites_count': 1, 'utc_offset': None, 'time_zone': None, 'geo_enabled': False, 'verified': False, 'statuses_count': 1750, 'lang': None, 'contributors_enabled': False, 'is_translator': False, 'is_translation_enabled': False, 'profile_background_color': 'F5F8FA', 'profile_background_image_url': None, 'profile_background_image_url_https': None, 'profile_background_tile': False, 'profile_image_url': 'http://pbs.twimg.com/profile_images/1293549408005419008/YvQfBYoz_normal.jpg', 'profile_image_url_https': 'https://pbs.twimg.com/profile_images/1293549408005419008/YvQfBYoz_normal.jpg', 'profile_banner_url': 'https://pbs.twimg.com/profile_banners/1293549057814614018/1597241270', 'profile_link_color': '1DA1F2', 'profile_sidebar_border_color': 'C0DEED', 'profile_sidebar_fill_color': 'DDEEF6', 'profile_text_color': '333333', 'profile_use_background_image': True, 'has_extended_profile': True, 'default_profile': True, 'default_profile_image': False, 'following': False, 'follow_request_sent': False, 'notifications': False, 'translator_type': 'none'}, id=1293549057814614018, id_str='1293549057814614018', name='www GiftYourHubby com', screen_name='Jaison39363599', location='', description='Hidden purchase links from amazon shopping \\nBuy a unique gift for your partner\\nVisit : https://t.co/K7PmP9zbXm', url=None, entities={'description': {'urls': [{'url': 'https://t.co/K7PmP9zbXm', 'expanded_url': 'http://www.giftyourhubby.com', 'display_url': 'giftyourhubby.com', 'indices': [87, 110]}]}}, protected=False, followers_count=36, friends_count=267, listed_count=0, created_at=datetime.datetime(2020, 8, 12, 14, 5, 12), favourites_count=1, utc_offset=None, time_zone=None, geo_enabled=False, verified=False, statuses_count=1750, lang=None, contributors_enabled=False, is_translator=False, is_translation_enabled=False, profile_background_color='F5F8FA', profile_background_image_url=None, profile_background_image_url_https=None, profile_background_tile=False, profile_image_url='http://pbs.twimg.com/profile_images/1293549408005419008/YvQfBYoz_normal.jpg', profile_image_url_https='https://pbs.twimg.com/profile_images/1293549408005419008/YvQfBYoz_normal.jpg', profile_banner_url='https://pbs.twimg.com/profile_banners/1293549057814614018/1597241270', profile_link_color='1DA1F2', profile_sidebar_border_color='C0DEED', profile_sidebar_fill_color='DDEEF6', profile_text_color='333333', profile_use_background_image=True, has_extended_profile=True, default_profile=True, default_profile_image=False, following=False, follow_request_sent=False, notifications=False, translator_type='none'), geo=None, coordinates=None, place=None, contributors=None, is_quote_status=False, retweet_count=0, favorite_count=0, favorited=False, retweeted=False, possibly_sensitive=False, lang='en') \n",
      "\n",
      ".....................................\n",
      "\n",
      "Status(_api=<tweepy.api.API object at 0x00000236CB17F3A0>, _json={'created_at': 'Thu Oct 29 08:55:46 +0000 2020', 'id': 1321737480601653248, 'id_str': '1321737480601653248', 'full_text': 'Thanks @zee24taasnews for picking my Tweet for match between Mumbai Indians and Royal Challengers Banglore.\\n#IPL2020\\n\\nLink: https://t.co/jPCrYb3cLZ https://t.co/wT6H7Xc5Y2', 'truncated': False, 'display_text_range': [0, 147], 'entities': {'hashtags': [{'text': 'IPL2020', 'indices': [108, 116]}], 'symbols': [], 'user_mentions': [{'screen_name': 'zee24taasnews', 'name': 'ZEE २४ तास', 'id': 126614467, 'id_str': '126614467', 'indices': [7, 21]}], 'urls': [{'url': 'https://t.co/jPCrYb3cLZ', 'expanded_url': 'https://zeenews.india.com/marathi/sports/ipl-2020-mi-vs-rcb-suryakumar-yadav-response-to-virat-kohli-staredown-after-match-winning-knock-in-abu-dhabi-is-winning-hearts/539682', 'display_url': 'zeenews.india.com/marathi/sports…', 'indices': [124, 147]}], 'media': [{'id': 1321737477657251840, 'id_str': '1321737477657251840', 'indices': [148, 171], 'media_url': 'http://pbs.twimg.com/media/ElfBO6oU0AA_e9d.jpg', 'media_url_https': 'https://pbs.twimg.com/media/ElfBO6oU0AA_e9d.jpg', 'url': 'https://t.co/wT6H7Xc5Y2', 'display_url': 'pic.twitter.com/wT6H7Xc5Y2', 'expanded_url': 'https://twitter.com/ImPran25/status/1321737480601653248/photo/1', 'type': 'photo', 'sizes': {'thumb': {'w': 150, 'h': 150, 'resize': 'crop'}, 'large': {'w': 601, 'h': 2048, 'resize': 'fit'}, 'medium': {'w': 352, 'h': 1200, 'resize': 'fit'}, 'small': {'w': 200, 'h': 680, 'resize': 'fit'}}}]}, 'extended_entities': {'media': [{'id': 1321737477657251840, 'id_str': '1321737477657251840', 'indices': [148, 171], 'media_url': 'http://pbs.twimg.com/media/ElfBO6oU0AA_e9d.jpg', 'media_url_https': 'https://pbs.twimg.com/media/ElfBO6oU0AA_e9d.jpg', 'url': 'https://t.co/wT6H7Xc5Y2', 'display_url': 'pic.twitter.com/wT6H7Xc5Y2', 'expanded_url': 'https://twitter.com/ImPran25/status/1321737480601653248/photo/1', 'type': 'photo', 'sizes': {'thumb': {'w': 150, 'h': 150, 'resize': 'crop'}, 'large': {'w': 601, 'h': 2048, 'resize': 'fit'}, 'medium': {'w': 352, 'h': 1200, 'resize': 'fit'}, 'small': {'w': 200, 'h': 680, 'resize': 'fit'}}}]}, 'metadata': {'iso_language_code': 'en', 'result_type': 'recent'}, 'source': '<a href=\"http://twitter.com/download/android\" rel=\"nofollow\">Twitter for Android</a>', 'in_reply_to_status_id': None, 'in_reply_to_status_id_str': None, 'in_reply_to_user_id': None, 'in_reply_to_user_id_str': None, 'in_reply_to_screen_name': None, 'user': {'id': 2652404068, 'id_str': '2652404068', 'name': 'Pran Parab', 'screen_name': 'ImPran25', 'location': 'India', 'description': 'Life is a journey to live, not a pressure cooker to get boiled..', 'url': None, 'entities': {'description': {'urls': []}}, 'protected': False, 'followers_count': 26, 'friends_count': 92, 'listed_count': 0, 'created_at': 'Sun Jun 29 06:09:16 +0000 2014', 'favourites_count': 838, 'utc_offset': None, 'time_zone': None, 'geo_enabled': True, 'verified': False, 'statuses_count': 611, 'lang': None, 'contributors_enabled': False, 'is_translator': False, 'is_translation_enabled': False, 'profile_background_color': 'C0DEED', 'profile_background_image_url': 'http://abs.twimg.com/images/themes/theme1/bg.png', 'profile_background_image_url_https': 'https://abs.twimg.com/images/themes/theme1/bg.png', 'profile_background_tile': False, 'profile_image_url': 'http://pbs.twimg.com/profile_images/1274318884967837697/TGwMRs3z_normal.jpg', 'profile_image_url_https': 'https://pbs.twimg.com/profile_images/1274318884967837697/TGwMRs3z_normal.jpg', 'profile_banner_url': 'https://pbs.twimg.com/profile_banners/2652404068/1597772102', 'profile_link_color': '1DA1F2', 'profile_sidebar_border_color': 'C0DEED', 'profile_sidebar_fill_color': 'DDEEF6', 'profile_text_color': '333333', 'profile_use_background_image': True, 'has_extended_profile': True, 'default_profile': True, 'default_profile_image': False, 'following': False, 'follow_request_sent': False, 'notifications': False, 'translator_type': 'none'}, 'geo': None, 'coordinates': None, 'place': None, 'contributors': None, 'is_quote_status': False, 'retweet_count': 0, 'favorite_count': 1, 'favorited': False, 'retweeted': False, 'possibly_sensitive': False, 'lang': 'en'}, created_at=datetime.datetime(2020, 10, 29, 8, 55, 46), id=1321737480601653248, id_str='1321737480601653248', full_text='Thanks @zee24taasnews for picking my Tweet for match between Mumbai Indians and Royal Challengers Banglore.\\n#IPL2020\\n\\nLink: https://t.co/jPCrYb3cLZ https://t.co/wT6H7Xc5Y2', truncated=False, display_text_range=[0, 147], entities={'hashtags': [{'text': 'IPL2020', 'indices': [108, 116]}], 'symbols': [], 'user_mentions': [{'screen_name': 'zee24taasnews', 'name': 'ZEE २४ तास', 'id': 126614467, 'id_str': '126614467', 'indices': [7, 21]}], 'urls': [{'url': 'https://t.co/jPCrYb3cLZ', 'expanded_url': 'https://zeenews.india.com/marathi/sports/ipl-2020-mi-vs-rcb-suryakumar-yadav-response-to-virat-kohli-staredown-after-match-winning-knock-in-abu-dhabi-is-winning-hearts/539682', 'display_url': 'zeenews.india.com/marathi/sports…', 'indices': [124, 147]}], 'media': [{'id': 1321737477657251840, 'id_str': '1321737477657251840', 'indices': [148, 171], 'media_url': 'http://pbs.twimg.com/media/ElfBO6oU0AA_e9d.jpg', 'media_url_https': 'https://pbs.twimg.com/media/ElfBO6oU0AA_e9d.jpg', 'url': 'https://t.co/wT6H7Xc5Y2', 'display_url': 'pic.twitter.com/wT6H7Xc5Y2', 'expanded_url': 'https://twitter.com/ImPran25/status/1321737480601653248/photo/1', 'type': 'photo', 'sizes': {'thumb': {'w': 150, 'h': 150, 'resize': 'crop'}, 'large': {'w': 601, 'h': 2048, 'resize': 'fit'}, 'medium': {'w': 352, 'h': 1200, 'resize': 'fit'}, 'small': {'w': 200, 'h': 680, 'resize': 'fit'}}}]}, extended_entities={'media': [{'id': 1321737477657251840, 'id_str': '1321737477657251840', 'indices': [148, 171], 'media_url': 'http://pbs.twimg.com/media/ElfBO6oU0AA_e9d.jpg', 'media_url_https': 'https://pbs.twimg.com/media/ElfBO6oU0AA_e9d.jpg', 'url': 'https://t.co/wT6H7Xc5Y2', 'display_url': 'pic.twitter.com/wT6H7Xc5Y2', 'expanded_url': 'https://twitter.com/ImPran25/status/1321737480601653248/photo/1', 'type': 'photo', 'sizes': {'thumb': {'w': 150, 'h': 150, 'resize': 'crop'}, 'large': {'w': 601, 'h': 2048, 'resize': 'fit'}, 'medium': {'w': 352, 'h': 1200, 'resize': 'fit'}, 'small': {'w': 200, 'h': 680, 'resize': 'fit'}}}]}, metadata={'iso_language_code': 'en', 'result_type': 'recent'}, source='Twitter for Android', source_url='http://twitter.com/download/android', in_reply_to_status_id=None, in_reply_to_status_id_str=None, in_reply_to_user_id=None, in_reply_to_user_id_str=None, in_reply_to_screen_name=None, author=User(_api=<tweepy.api.API object at 0x00000236CB17F3A0>, _json={'id': 2652404068, 'id_str': '2652404068', 'name': 'Pran Parab', 'screen_name': 'ImPran25', 'location': 'India', 'description': 'Life is a journey to live, not a pressure cooker to get boiled..', 'url': None, 'entities': {'description': {'urls': []}}, 'protected': False, 'followers_count': 26, 'friends_count': 92, 'listed_count': 0, 'created_at': 'Sun Jun 29 06:09:16 +0000 2014', 'favourites_count': 838, 'utc_offset': None, 'time_zone': None, 'geo_enabled': True, 'verified': False, 'statuses_count': 611, 'lang': None, 'contributors_enabled': False, 'is_translator': False, 'is_translation_enabled': False, 'profile_background_color': 'C0DEED', 'profile_background_image_url': 'http://abs.twimg.com/images/themes/theme1/bg.png', 'profile_background_image_url_https': 'https://abs.twimg.com/images/themes/theme1/bg.png', 'profile_background_tile': False, 'profile_image_url': 'http://pbs.twimg.com/profile_images/1274318884967837697/TGwMRs3z_normal.jpg', 'profile_image_url_https': 'https://pbs.twimg.com/profile_images/1274318884967837697/TGwMRs3z_normal.jpg', 'profile_banner_url': 'https://pbs.twimg.com/profile_banners/2652404068/1597772102', 'profile_link_color': '1DA1F2', 'profile_sidebar_border_color': 'C0DEED', 'profile_sidebar_fill_color': 'DDEEF6', 'profile_text_color': '333333', 'profile_use_background_image': True, 'has_extended_profile': True, 'default_profile': True, 'default_profile_image': False, 'following': False, 'follow_request_sent': False, 'notifications': False, 'translator_type': 'none'}, id=2652404068, id_str='2652404068', name='Pran Parab', screen_name='ImPran25', location='India', description='Life is a journey to live, not a pressure cooker to get boiled..', url=None, entities={'description': {'urls': []}}, protected=False, followers_count=26, friends_count=92, listed_count=0, created_at=datetime.datetime(2014, 6, 29, 6, 9, 16), favourites_count=838, utc_offset=None, time_zone=None, geo_enabled=True, verified=False, statuses_count=611, lang=None, contributors_enabled=False, is_translator=False, is_translation_enabled=False, profile_background_color='C0DEED', profile_background_image_url='http://abs.twimg.com/images/themes/theme1/bg.png', profile_background_image_url_https='https://abs.twimg.com/images/themes/theme1/bg.png', profile_background_tile=False, profile_image_url='http://pbs.twimg.com/profile_images/1274318884967837697/TGwMRs3z_normal.jpg', profile_image_url_https='https://pbs.twimg.com/profile_images/1274318884967837697/TGwMRs3z_normal.jpg', profile_banner_url='https://pbs.twimg.com/profile_banners/2652404068/1597772102', profile_link_color='1DA1F2', profile_sidebar_border_color='C0DEED', profile_sidebar_fill_color='DDEEF6', profile_text_color='333333', profile_use_background_image=True, has_extended_profile=True, default_profile=True, default_profile_image=False, following=False, follow_request_sent=False, notifications=False, translator_type='none'), user=User(_api=<tweepy.api.API object at 0x00000236CB17F3A0>, _json={'id': 2652404068, 'id_str': '2652404068', 'name': 'Pran Parab', 'screen_name': 'ImPran25', 'location': 'India', 'description': 'Life is a journey to live, not a pressure cooker to get boiled..', 'url': None, 'entities': {'description': {'urls': []}}, 'protected': False, 'followers_count': 26, 'friends_count': 92, 'listed_count': 0, 'created_at': 'Sun Jun 29 06:09:16 +0000 2014', 'favourites_count': 838, 'utc_offset': None, 'time_zone': None, 'geo_enabled': True, 'verified': False, 'statuses_count': 611, 'lang': None, 'contributors_enabled': False, 'is_translator': False, 'is_translation_enabled': False, 'profile_background_color': 'C0DEED', 'profile_background_image_url': 'http://abs.twimg.com/images/themes/theme1/bg.png', 'profile_background_image_url_https': 'https://abs.twimg.com/images/themes/theme1/bg.png', 'profile_background_tile': False, 'profile_image_url': 'http://pbs.twimg.com/profile_images/1274318884967837697/TGwMRs3z_normal.jpg', 'profile_image_url_https': 'https://pbs.twimg.com/profile_images/1274318884967837697/TGwMRs3z_normal.jpg', 'profile_banner_url': 'https://pbs.twimg.com/profile_banners/2652404068/1597772102', 'profile_link_color': '1DA1F2', 'profile_sidebar_border_color': 'C0DEED', 'profile_sidebar_fill_color': 'DDEEF6', 'profile_text_color': '333333', 'profile_use_background_image': True, 'has_extended_profile': True, 'default_profile': True, 'default_profile_image': False, 'following': False, 'follow_request_sent': False, 'notifications': False, 'translator_type': 'none'}, id=2652404068, id_str='2652404068', name='Pran Parab', screen_name='ImPran25', location='India', description='Life is a journey to live, not a pressure cooker to get boiled..', url=None, entities={'description': {'urls': []}}, protected=False, followers_count=26, friends_count=92, listed_count=0, created_at=datetime.datetime(2014, 6, 29, 6, 9, 16), favourites_count=838, utc_offset=None, time_zone=None, geo_enabled=True, verified=False, statuses_count=611, lang=None, contributors_enabled=False, is_translator=False, is_translation_enabled=False, profile_background_color='C0DEED', profile_background_image_url='http://abs.twimg.com/images/themes/theme1/bg.png', profile_background_image_url_https='https://abs.twimg.com/images/themes/theme1/bg.png', profile_background_tile=False, profile_image_url='http://pbs.twimg.com/profile_images/1274318884967837697/TGwMRs3z_normal.jpg', profile_image_url_https='https://pbs.twimg.com/profile_images/1274318884967837697/TGwMRs3z_normal.jpg', profile_banner_url='https://pbs.twimg.com/profile_banners/2652404068/1597772102', profile_link_color='1DA1F2', profile_sidebar_border_color='C0DEED', profile_sidebar_fill_color='DDEEF6', profile_text_color='333333', profile_use_background_image=True, has_extended_profile=True, default_profile=True, default_profile_image=False, following=False, follow_request_sent=False, notifications=False, translator_type='none'), geo=None, coordinates=None, place=None, contributors=None, is_quote_status=False, retweet_count=0, favorite_count=1, favorited=False, retweeted=False, possibly_sensitive=False, lang='en') \n",
      "\n",
      ".....................................\n",
      "\n",
      "Status(_api=<tweepy.api.API object at 0x00000236CB17F3A0>, _json={'created_at': 'Thu Oct 29 07:06:37 +0000 2020', 'id': 1321710012570296320, 'id_str': '1321710012570296320', 'full_text': '@imVkohli @RCBTweets RCB still not among the IPL winning teams even after so many years. Needless to say who should be questioned.', 'truncated': False, 'display_text_range': [21, 130], 'entities': {'hashtags': [], 'symbols': [], 'user_mentions': [{'screen_name': 'imVkohli', 'name': 'Virat Kohli', 'id': 71201743, 'id_str': '71201743', 'indices': [0, 9]}, {'screen_name': 'RCBTweets', 'name': 'Royal Challengers Bangalore', 'id': 70931004, 'id_str': '70931004', 'indices': [10, 20]}], 'urls': []}, 'metadata': {'iso_language_code': 'en', 'result_type': 'recent'}, 'source': '<a href=\"http://twitter.com/download/iphone\" rel=\"nofollow\">Twitter for iPhone</a>', 'in_reply_to_status_id': 1321518923880169472, 'in_reply_to_status_id_str': '1321518923880169472', 'in_reply_to_user_id': 71201743, 'in_reply_to_user_id_str': '71201743', 'in_reply_to_screen_name': 'imVkohli', 'user': {'id': 1623591480, 'id_str': '1623591480', 'name': 'gaurav srivastava', 'screen_name': 'GauravSr234', 'location': '', 'description': '', 'url': None, 'entities': {'description': {'urls': []}}, 'protected': False, 'followers_count': 10, 'friends_count': 66, 'listed_count': 0, 'created_at': 'Fri Jul 26 18:47:10 +0000 2013', 'favourites_count': 268, 'utc_offset': None, 'time_zone': None, 'geo_enabled': False, 'verified': False, 'statuses_count': 305, 'lang': None, 'contributors_enabled': False, 'is_translator': False, 'is_translation_enabled': False, 'profile_background_color': 'C0DEED', 'profile_background_image_url': 'http://abs.twimg.com/images/themes/theme1/bg.png', 'profile_background_image_url_https': 'https://abs.twimg.com/images/themes/theme1/bg.png', 'profile_background_tile': False, 'profile_image_url': 'http://pbs.twimg.com/profile_images/1266804034155040768/ub__l7G2_normal.jpg', 'profile_image_url_https': 'https://pbs.twimg.com/profile_images/1266804034155040768/ub__l7G2_normal.jpg', 'profile_banner_url': 'https://pbs.twimg.com/profile_banners/1623591480/1589199550', 'profile_link_color': '1DA1F2', 'profile_sidebar_border_color': 'C0DEED', 'profile_sidebar_fill_color': 'DDEEF6', 'profile_text_color': '333333', 'profile_use_background_image': True, 'has_extended_profile': False, 'default_profile': True, 'default_profile_image': False, 'following': False, 'follow_request_sent': False, 'notifications': False, 'translator_type': 'none'}, 'geo': None, 'coordinates': None, 'place': None, 'contributors': None, 'is_quote_status': False, 'retweet_count': 0, 'favorite_count': 0, 'favorited': False, 'retweeted': False, 'lang': 'en'}, created_at=datetime.datetime(2020, 10, 29, 7, 6, 37), id=1321710012570296320, id_str='1321710012570296320', full_text='@imVkohli @RCBTweets RCB still not among the IPL winning teams even after so many years. Needless to say who should be questioned.', truncated=False, display_text_range=[21, 130], entities={'hashtags': [], 'symbols': [], 'user_mentions': [{'screen_name': 'imVkohli', 'name': 'Virat Kohli', 'id': 71201743, 'id_str': '71201743', 'indices': [0, 9]}, {'screen_name': 'RCBTweets', 'name': 'Royal Challengers Bangalore', 'id': 70931004, 'id_str': '70931004', 'indices': [10, 20]}], 'urls': []}, metadata={'iso_language_code': 'en', 'result_type': 'recent'}, source='Twitter for iPhone', source_url='http://twitter.com/download/iphone', in_reply_to_status_id=1321518923880169472, in_reply_to_status_id_str='1321518923880169472', in_reply_to_user_id=71201743, in_reply_to_user_id_str='71201743', in_reply_to_screen_name='imVkohli', author=User(_api=<tweepy.api.API object at 0x00000236CB17F3A0>, _json={'id': 1623591480, 'id_str': '1623591480', 'name': 'gaurav srivastava', 'screen_name': 'GauravSr234', 'location': '', 'description': '', 'url': None, 'entities': {'description': {'urls': []}}, 'protected': False, 'followers_count': 10, 'friends_count': 66, 'listed_count': 0, 'created_at': 'Fri Jul 26 18:47:10 +0000 2013', 'favourites_count': 268, 'utc_offset': None, 'time_zone': None, 'geo_enabled': False, 'verified': False, 'statuses_count': 305, 'lang': None, 'contributors_enabled': False, 'is_translator': False, 'is_translation_enabled': False, 'profile_background_color': 'C0DEED', 'profile_background_image_url': 'http://abs.twimg.com/images/themes/theme1/bg.png', 'profile_background_image_url_https': 'https://abs.twimg.com/images/themes/theme1/bg.png', 'profile_background_tile': False, 'profile_image_url': 'http://pbs.twimg.com/profile_images/1266804034155040768/ub__l7G2_normal.jpg', 'profile_image_url_https': 'https://pbs.twimg.com/profile_images/1266804034155040768/ub__l7G2_normal.jpg', 'profile_banner_url': 'https://pbs.twimg.com/profile_banners/1623591480/1589199550', 'profile_link_color': '1DA1F2', 'profile_sidebar_border_color': 'C0DEED', 'profile_sidebar_fill_color': 'DDEEF6', 'profile_text_color': '333333', 'profile_use_background_image': True, 'has_extended_profile': False, 'default_profile': True, 'default_profile_image': False, 'following': False, 'follow_request_sent': False, 'notifications': False, 'translator_type': 'none'}, id=1623591480, id_str='1623591480', name='gaurav srivastava', screen_name='GauravSr234', location='', description='', url=None, entities={'description': {'urls': []}}, protected=False, followers_count=10, friends_count=66, listed_count=0, created_at=datetime.datetime(2013, 7, 26, 18, 47, 10), favourites_count=268, utc_offset=None, time_zone=None, geo_enabled=False, verified=False, statuses_count=305, lang=None, contributors_enabled=False, is_translator=False, is_translation_enabled=False, profile_background_color='C0DEED', profile_background_image_url='http://abs.twimg.com/images/themes/theme1/bg.png', profile_background_image_url_https='https://abs.twimg.com/images/themes/theme1/bg.png', profile_background_tile=False, profile_image_url='http://pbs.twimg.com/profile_images/1266804034155040768/ub__l7G2_normal.jpg', profile_image_url_https='https://pbs.twimg.com/profile_images/1266804034155040768/ub__l7G2_normal.jpg', profile_banner_url='https://pbs.twimg.com/profile_banners/1623591480/1589199550', profile_link_color='1DA1F2', profile_sidebar_border_color='C0DEED', profile_sidebar_fill_color='DDEEF6', profile_text_color='333333', profile_use_background_image=True, has_extended_profile=False, default_profile=True, default_profile_image=False, following=False, follow_request_sent=False, notifications=False, translator_type='none'), user=User(_api=<tweepy.api.API object at 0x00000236CB17F3A0>, _json={'id': 1623591480, 'id_str': '1623591480', 'name': 'gaurav srivastava', 'screen_name': 'GauravSr234', 'location': '', 'description': '', 'url': None, 'entities': {'description': {'urls': []}}, 'protected': False, 'followers_count': 10, 'friends_count': 66, 'listed_count': 0, 'created_at': 'Fri Jul 26 18:47:10 +0000 2013', 'favourites_count': 268, 'utc_offset': None, 'time_zone': None, 'geo_enabled': False, 'verified': False, 'statuses_count': 305, 'lang': None, 'contributors_enabled': False, 'is_translator': False, 'is_translation_enabled': False, 'profile_background_color': 'C0DEED', 'profile_background_image_url': 'http://abs.twimg.com/images/themes/theme1/bg.png', 'profile_background_image_url_https': 'https://abs.twimg.com/images/themes/theme1/bg.png', 'profile_background_tile': False, 'profile_image_url': 'http://pbs.twimg.com/profile_images/1266804034155040768/ub__l7G2_normal.jpg', 'profile_image_url_https': 'https://pbs.twimg.com/profile_images/1266804034155040768/ub__l7G2_normal.jpg', 'profile_banner_url': 'https://pbs.twimg.com/profile_banners/1623591480/1589199550', 'profile_link_color': '1DA1F2', 'profile_sidebar_border_color': 'C0DEED', 'profile_sidebar_fill_color': 'DDEEF6', 'profile_text_color': '333333', 'profile_use_background_image': True, 'has_extended_profile': False, 'default_profile': True, 'default_profile_image': False, 'following': False, 'follow_request_sent': False, 'notifications': False, 'translator_type': 'none'}, id=1623591480, id_str='1623591480', name='gaurav srivastava', screen_name='GauravSr234', location='', description='', url=None, entities={'description': {'urls': []}}, protected=False, followers_count=10, friends_count=66, listed_count=0, created_at=datetime.datetime(2013, 7, 26, 18, 47, 10), favourites_count=268, utc_offset=None, time_zone=None, geo_enabled=False, verified=False, statuses_count=305, lang=None, contributors_enabled=False, is_translator=False, is_translation_enabled=False, profile_background_color='C0DEED', profile_background_image_url='http://abs.twimg.com/images/themes/theme1/bg.png', profile_background_image_url_https='https://abs.twimg.com/images/themes/theme1/bg.png', profile_background_tile=False, profile_image_url='http://pbs.twimg.com/profile_images/1266804034155040768/ub__l7G2_normal.jpg', profile_image_url_https='https://pbs.twimg.com/profile_images/1266804034155040768/ub__l7G2_normal.jpg', profile_banner_url='https://pbs.twimg.com/profile_banners/1623591480/1589199550', profile_link_color='1DA1F2', profile_sidebar_border_color='C0DEED', profile_sidebar_fill_color='DDEEF6', profile_text_color='333333', profile_use_background_image=True, has_extended_profile=False, default_profile=True, default_profile_image=False, following=False, follow_request_sent=False, notifications=False, translator_type='none'), geo=None, coordinates=None, place=None, contributors=None, is_quote_status=False, retweet_count=0, favorite_count=0, favorited=False, retweeted=False, lang='en') \n",
      "\n",
      ".....................................\n",
      "\n",
      "Status(_api=<tweepy.api.API object at 0x00000236CB17F3A0>, _json={'created_at': 'Thu Oct 29 06:51:34 +0000 2020', 'id': 1321706224279171072, 'id_str': '1321706224279171072', 'full_text': 'Kolly deserves chamat😂 https://t.co/SFcrZki1Ed', 'truncated': False, 'display_text_range': [0, 46], 'entities': {'hashtags': [], 'symbols': [], 'user_mentions': [], 'urls': [{'url': 'https://t.co/SFcrZki1Ed', 'expanded_url': 'https://zeenews.india.com/marathi/sports/ipl-2020-mi-vs-rcb-suryakumar-yadav-response-to-virat-kohli-staredown-after-match-winning-knock-in-abu-dhabi-is-winning-hearts/539682/amp?__twitter_impression=true', 'display_url': 'zeenews.india.com/marathi/sports…', 'indices': [23, 46]}]}, 'metadata': {'iso_language_code': 'en', 'result_type': 'recent'}, 'source': '<a href=\"http://twitter.com/download/android\" rel=\"nofollow\">Twitter for Android</a>', 'in_reply_to_status_id': None, 'in_reply_to_status_id_str': None, 'in_reply_to_user_id': None, 'in_reply_to_user_id_str': None, 'in_reply_to_screen_name': None, 'user': {'id': 1129730805343838208, 'id_str': '1129730805343838208', 'name': '#KKR💜', 'screen_name': 'MeGlaxy_Kavya', 'location': 'India ', 'description': 'Be Alone.', 'url': None, 'entities': {'description': {'urls': []}}, 'protected': False, 'followers_count': 249, 'friends_count': 186, 'listed_count': 0, 'created_at': 'Sat May 18 12:49:48 +0000 2019', 'favourites_count': 10180, 'utc_offset': None, 'time_zone': None, 'geo_enabled': True, 'verified': False, 'statuses_count': 19836, 'lang': None, 'contributors_enabled': False, 'is_translator': False, 'is_translation_enabled': False, 'profile_background_color': 'F5F8FA', 'profile_background_image_url': None, 'profile_background_image_url_https': None, 'profile_background_tile': False, 'profile_image_url': 'http://pbs.twimg.com/profile_images/1320405193935122434/uHBbzcSW_normal.jpg', 'profile_image_url_https': 'https://pbs.twimg.com/profile_images/1320405193935122434/uHBbzcSW_normal.jpg', 'profile_banner_url': 'https://pbs.twimg.com/profile_banners/1129730805343838208/1599302104', 'profile_link_color': '1DA1F2', 'profile_sidebar_border_color': 'C0DEED', 'profile_sidebar_fill_color': 'DDEEF6', 'profile_text_color': '333333', 'profile_use_background_image': True, 'has_extended_profile': False, 'default_profile': True, 'default_profile_image': False, 'following': False, 'follow_request_sent': False, 'notifications': False, 'translator_type': 'none'}, 'geo': None, 'coordinates': None, 'place': None, 'contributors': None, 'is_quote_status': False, 'retweet_count': 0, 'favorite_count': 1, 'favorited': False, 'retweeted': False, 'possibly_sensitive': False, 'lang': 'en'}, created_at=datetime.datetime(2020, 10, 29, 6, 51, 34), id=1321706224279171072, id_str='1321706224279171072', full_text='Kolly deserves chamat😂 https://t.co/SFcrZki1Ed', truncated=False, display_text_range=[0, 46], entities={'hashtags': [], 'symbols': [], 'user_mentions': [], 'urls': [{'url': 'https://t.co/SFcrZki1Ed', 'expanded_url': 'https://zeenews.india.com/marathi/sports/ipl-2020-mi-vs-rcb-suryakumar-yadav-response-to-virat-kohli-staredown-after-match-winning-knock-in-abu-dhabi-is-winning-hearts/539682/amp?__twitter_impression=true', 'display_url': 'zeenews.india.com/marathi/sports…', 'indices': [23, 46]}]}, metadata={'iso_language_code': 'en', 'result_type': 'recent'}, source='Twitter for Android', source_url='http://twitter.com/download/android', in_reply_to_status_id=None, in_reply_to_status_id_str=None, in_reply_to_user_id=None, in_reply_to_user_id_str=None, in_reply_to_screen_name=None, author=User(_api=<tweepy.api.API object at 0x00000236CB17F3A0>, _json={'id': 1129730805343838208, 'id_str': '1129730805343838208', 'name': '#KKR💜', 'screen_name': 'MeGlaxy_Kavya', 'location': 'India ', 'description': 'Be Alone.', 'url': None, 'entities': {'description': {'urls': []}}, 'protected': False, 'followers_count': 249, 'friends_count': 186, 'listed_count': 0, 'created_at': 'Sat May 18 12:49:48 +0000 2019', 'favourites_count': 10180, 'utc_offset': None, 'time_zone': None, 'geo_enabled': True, 'verified': False, 'statuses_count': 19836, 'lang': None, 'contributors_enabled': False, 'is_translator': False, 'is_translation_enabled': False, 'profile_background_color': 'F5F8FA', 'profile_background_image_url': None, 'profile_background_image_url_https': None, 'profile_background_tile': False, 'profile_image_url': 'http://pbs.twimg.com/profile_images/1320405193935122434/uHBbzcSW_normal.jpg', 'profile_image_url_https': 'https://pbs.twimg.com/profile_images/1320405193935122434/uHBbzcSW_normal.jpg', 'profile_banner_url': 'https://pbs.twimg.com/profile_banners/1129730805343838208/1599302104', 'profile_link_color': '1DA1F2', 'profile_sidebar_border_color': 'C0DEED', 'profile_sidebar_fill_color': 'DDEEF6', 'profile_text_color': '333333', 'profile_use_background_image': True, 'has_extended_profile': False, 'default_profile': True, 'default_profile_image': False, 'following': False, 'follow_request_sent': False, 'notifications': False, 'translator_type': 'none'}, id=1129730805343838208, id_str='1129730805343838208', name='#KKR💜', screen_name='MeGlaxy_Kavya', location='India ', description='Be Alone.', url=None, entities={'description': {'urls': []}}, protected=False, followers_count=249, friends_count=186, listed_count=0, created_at=datetime.datetime(2019, 5, 18, 12, 49, 48), favourites_count=10180, utc_offset=None, time_zone=None, geo_enabled=True, verified=False, statuses_count=19836, lang=None, contributors_enabled=False, is_translator=False, is_translation_enabled=False, profile_background_color='F5F8FA', profile_background_image_url=None, profile_background_image_url_https=None, profile_background_tile=False, profile_image_url='http://pbs.twimg.com/profile_images/1320405193935122434/uHBbzcSW_normal.jpg', profile_image_url_https='https://pbs.twimg.com/profile_images/1320405193935122434/uHBbzcSW_normal.jpg', profile_banner_url='https://pbs.twimg.com/profile_banners/1129730805343838208/1599302104', profile_link_color='1DA1F2', profile_sidebar_border_color='C0DEED', profile_sidebar_fill_color='DDEEF6', profile_text_color='333333', profile_use_background_image=True, has_extended_profile=False, default_profile=True, default_profile_image=False, following=False, follow_request_sent=False, notifications=False, translator_type='none'), user=User(_api=<tweepy.api.API object at 0x00000236CB17F3A0>, _json={'id': 1129730805343838208, 'id_str': '1129730805343838208', 'name': '#KKR💜', 'screen_name': 'MeGlaxy_Kavya', 'location': 'India ', 'description': 'Be Alone.', 'url': None, 'entities': {'description': {'urls': []}}, 'protected': False, 'followers_count': 249, 'friends_count': 186, 'listed_count': 0, 'created_at': 'Sat May 18 12:49:48 +0000 2019', 'favourites_count': 10180, 'utc_offset': None, 'time_zone': None, 'geo_enabled': True, 'verified': False, 'statuses_count': 19836, 'lang': None, 'contributors_enabled': False, 'is_translator': False, 'is_translation_enabled': False, 'profile_background_color': 'F5F8FA', 'profile_background_image_url': None, 'profile_background_image_url_https': None, 'profile_background_tile': False, 'profile_image_url': 'http://pbs.twimg.com/profile_images/1320405193935122434/uHBbzcSW_normal.jpg', 'profile_image_url_https': 'https://pbs.twimg.com/profile_images/1320405193935122434/uHBbzcSW_normal.jpg', 'profile_banner_url': 'https://pbs.twimg.com/profile_banners/1129730805343838208/1599302104', 'profile_link_color': '1DA1F2', 'profile_sidebar_border_color': 'C0DEED', 'profile_sidebar_fill_color': 'DDEEF6', 'profile_text_color': '333333', 'profile_use_background_image': True, 'has_extended_profile': False, 'default_profile': True, 'default_profile_image': False, 'following': False, 'follow_request_sent': False, 'notifications': False, 'translator_type': 'none'}, id=1129730805343838208, id_str='1129730805343838208', name='#KKR💜', screen_name='MeGlaxy_Kavya', location='India ', description='Be Alone.', url=None, entities={'description': {'urls': []}}, protected=False, followers_count=249, friends_count=186, listed_count=0, created_at=datetime.datetime(2019, 5, 18, 12, 49, 48), favourites_count=10180, utc_offset=None, time_zone=None, geo_enabled=True, verified=False, statuses_count=19836, lang=None, contributors_enabled=False, is_translator=False, is_translation_enabled=False, profile_background_color='F5F8FA', profile_background_image_url=None, profile_background_image_url_https=None, profile_background_tile=False, profile_image_url='http://pbs.twimg.com/profile_images/1320405193935122434/uHBbzcSW_normal.jpg', profile_image_url_https='https://pbs.twimg.com/profile_images/1320405193935122434/uHBbzcSW_normal.jpg', profile_banner_url='https://pbs.twimg.com/profile_banners/1129730805343838208/1599302104', profile_link_color='1DA1F2', profile_sidebar_border_color='C0DEED', profile_sidebar_fill_color='DDEEF6', profile_text_color='333333', profile_use_background_image=True, has_extended_profile=False, default_profile=True, default_profile_image=False, following=False, follow_request_sent=False, notifications=False, translator_type='none'), geo=None, coordinates=None, place=None, contributors=None, is_quote_status=False, retweet_count=0, favorite_count=1, favorited=False, retweeted=False, possibly_sensitive=False, lang='en') \n",
      "\n",
      ".....................................\n",
      "\n",
      "Status(_api=<tweepy.api.API object at 0x00000236CB17F3A0>, _json={'created_at': 'Thu Oct 29 06:49:25 +0000 2020', 'id': 1321705682920382465, 'id_str': '1321705682920382465', 'full_text': 'Rohit does an Archer #IPL2020 #SuryakumarYadav #Rohit\\nhttps://t.co/qzgYFsBOUV', 'truncated': False, 'display_text_range': [0, 77], 'entities': {'hashtags': [{'text': 'IPL2020', 'indices': [21, 29]}, {'text': 'SuryakumarYadav', 'indices': [30, 46]}, {'text': 'Rohit', 'indices': [47, 53]}], 'symbols': [], 'user_mentions': [], 'urls': [{'url': 'https://t.co/qzgYFsBOUV', 'expanded_url': 'https://www.india.com/sports/ipl-2020-rohit-sharmas-prediction-on-suryakumar-yadav-old-tweet-resurfaces-after-mi-batsmans-match-winning-43-ball-79-against-rcb-4189951/', 'display_url': 'india.com/sports/ipl-202…', 'indices': [54, 77]}]}, 'metadata': {'iso_language_code': 'en', 'result_type': 'recent'}, 'source': '<a href=\"https://mobile.twitter.com\" rel=\"nofollow\">Twitter Web App</a>', 'in_reply_to_status_id': None, 'in_reply_to_status_id_str': None, 'in_reply_to_user_id': None, 'in_reply_to_user_id_str': None, 'in_reply_to_screen_name': None, 'user': {'id': 22793955, 'id_str': '22793955', 'name': 'India.com', 'screen_name': 'indiacom', 'location': 'India', 'description': 'Follow https://t.co/RBTHZHv1ga for breaking news from India and around the world, live cricket updates, Bollywood gossip, travel tips and latest trends.', 'url': 'http://t.co/BiOdkjo3Rr', 'entities': {'url': {'urls': [{'url': 'http://t.co/BiOdkjo3Rr', 'expanded_url': 'http://www.india.com', 'display_url': 'india.com', 'indices': [0, 22]}]}, 'description': {'urls': [{'url': 'https://t.co/RBTHZHv1ga', 'expanded_url': 'http://India.com', 'display_url': 'India.com', 'indices': [7, 30]}]}}, 'protected': False, 'followers_count': 12887, 'friends_count': 372, 'listed_count': 244, 'created_at': 'Wed Mar 04 16:20:07 +0000 2009', 'favourites_count': 317, 'utc_offset': None, 'time_zone': None, 'geo_enabled': True, 'verified': True, 'statuses_count': 194564, 'lang': None, 'contributors_enabled': False, 'is_translator': False, 'is_translation_enabled': False, 'profile_background_color': 'C0DEED', 'profile_background_image_url': 'http://abs.twimg.com/images/themes/theme1/bg.png', 'profile_background_image_url_https': 'https://abs.twimg.com/images/themes/theme1/bg.png', 'profile_background_tile': False, 'profile_image_url': 'http://pbs.twimg.com/profile_images/1149599189787013121/Uc2CuNRv_normal.png', 'profile_image_url_https': 'https://pbs.twimg.com/profile_images/1149599189787013121/Uc2CuNRv_normal.png', 'profile_banner_url': 'https://pbs.twimg.com/profile_banners/22793955/1589270359', 'profile_link_color': '1B95E0', 'profile_sidebar_border_color': 'FFFFFF', 'profile_sidebar_fill_color': 'DDEEF6', 'profile_text_color': '333333', 'profile_use_background_image': False, 'has_extended_profile': False, 'default_profile': False, 'default_profile_image': False, 'following': False, 'follow_request_sent': False, 'notifications': False, 'translator_type': 'none'}, 'geo': None, 'coordinates': None, 'place': None, 'contributors': None, 'is_quote_status': False, 'retweet_count': 0, 'favorite_count': 2, 'favorited': False, 'retweeted': False, 'possibly_sensitive': False, 'lang': 'en'}, created_at=datetime.datetime(2020, 10, 29, 6, 49, 25), id=1321705682920382465, id_str='1321705682920382465', full_text='Rohit does an Archer #IPL2020 #SuryakumarYadav #Rohit\\nhttps://t.co/qzgYFsBOUV', truncated=False, display_text_range=[0, 77], entities={'hashtags': [{'text': 'IPL2020', 'indices': [21, 29]}, {'text': 'SuryakumarYadav', 'indices': [30, 46]}, {'text': 'Rohit', 'indices': [47, 53]}], 'symbols': [], 'user_mentions': [], 'urls': [{'url': 'https://t.co/qzgYFsBOUV', 'expanded_url': 'https://www.india.com/sports/ipl-2020-rohit-sharmas-prediction-on-suryakumar-yadav-old-tweet-resurfaces-after-mi-batsmans-match-winning-43-ball-79-against-rcb-4189951/', 'display_url': 'india.com/sports/ipl-202…', 'indices': [54, 77]}]}, metadata={'iso_language_code': 'en', 'result_type': 'recent'}, source='Twitter Web App', source_url='https://mobile.twitter.com', in_reply_to_status_id=None, in_reply_to_status_id_str=None, in_reply_to_user_id=None, in_reply_to_user_id_str=None, in_reply_to_screen_name=None, author=User(_api=<tweepy.api.API object at 0x00000236CB17F3A0>, _json={'id': 22793955, 'id_str': '22793955', 'name': 'India.com', 'screen_name': 'indiacom', 'location': 'India', 'description': 'Follow https://t.co/RBTHZHv1ga for breaking news from India and around the world, live cricket updates, Bollywood gossip, travel tips and latest trends.', 'url': 'http://t.co/BiOdkjo3Rr', 'entities': {'url': {'urls': [{'url': 'http://t.co/BiOdkjo3Rr', 'expanded_url': 'http://www.india.com', 'display_url': 'india.com', 'indices': [0, 22]}]}, 'description': {'urls': [{'url': 'https://t.co/RBTHZHv1ga', 'expanded_url': 'http://India.com', 'display_url': 'India.com', 'indices': [7, 30]}]}}, 'protected': False, 'followers_count': 12887, 'friends_count': 372, 'listed_count': 244, 'created_at': 'Wed Mar 04 16:20:07 +0000 2009', 'favourites_count': 317, 'utc_offset': None, 'time_zone': None, 'geo_enabled': True, 'verified': True, 'statuses_count': 194564, 'lang': None, 'contributors_enabled': False, 'is_translator': False, 'is_translation_enabled': False, 'profile_background_color': 'C0DEED', 'profile_background_image_url': 'http://abs.twimg.com/images/themes/theme1/bg.png', 'profile_background_image_url_https': 'https://abs.twimg.com/images/themes/theme1/bg.png', 'profile_background_tile': False, 'profile_image_url': 'http://pbs.twimg.com/profile_images/1149599189787013121/Uc2CuNRv_normal.png', 'profile_image_url_https': 'https://pbs.twimg.com/profile_images/1149599189787013121/Uc2CuNRv_normal.png', 'profile_banner_url': 'https://pbs.twimg.com/profile_banners/22793955/1589270359', 'profile_link_color': '1B95E0', 'profile_sidebar_border_color': 'FFFFFF', 'profile_sidebar_fill_color': 'DDEEF6', 'profile_text_color': '333333', 'profile_use_background_image': False, 'has_extended_profile': False, 'default_profile': False, 'default_profile_image': False, 'following': False, 'follow_request_sent': False, 'notifications': False, 'translator_type': 'none'}, id=22793955, id_str='22793955', name='India.com', screen_name='indiacom', location='India', description='Follow https://t.co/RBTHZHv1ga for breaking news from India and around the world, live cricket updates, Bollywood gossip, travel tips and latest trends.', url='http://t.co/BiOdkjo3Rr', entities={'url': {'urls': [{'url': 'http://t.co/BiOdkjo3Rr', 'expanded_url': 'http://www.india.com', 'display_url': 'india.com', 'indices': [0, 22]}]}, 'description': {'urls': [{'url': 'https://t.co/RBTHZHv1ga', 'expanded_url': 'http://India.com', 'display_url': 'India.com', 'indices': [7, 30]}]}}, protected=False, followers_count=12887, friends_count=372, listed_count=244, created_at=datetime.datetime(2009, 3, 4, 16, 20, 7), favourites_count=317, utc_offset=None, time_zone=None, geo_enabled=True, verified=True, statuses_count=194564, lang=None, contributors_enabled=False, is_translator=False, is_translation_enabled=False, profile_background_color='C0DEED', profile_background_image_url='http://abs.twimg.com/images/themes/theme1/bg.png', profile_background_image_url_https='https://abs.twimg.com/images/themes/theme1/bg.png', profile_background_tile=False, profile_image_url='http://pbs.twimg.com/profile_images/1149599189787013121/Uc2CuNRv_normal.png', profile_image_url_https='https://pbs.twimg.com/profile_images/1149599189787013121/Uc2CuNRv_normal.png', profile_banner_url='https://pbs.twimg.com/profile_banners/22793955/1589270359', profile_link_color='1B95E0', profile_sidebar_border_color='FFFFFF', profile_sidebar_fill_color='DDEEF6', profile_text_color='333333', profile_use_background_image=False, has_extended_profile=False, default_profile=False, default_profile_image=False, following=False, follow_request_sent=False, notifications=False, translator_type='none'), user=User(_api=<tweepy.api.API object at 0x00000236CB17F3A0>, _json={'id': 22793955, 'id_str': '22793955', 'name': 'India.com', 'screen_name': 'indiacom', 'location': 'India', 'description': 'Follow https://t.co/RBTHZHv1ga for breaking news from India and around the world, live cricket updates, Bollywood gossip, travel tips and latest trends.', 'url': 'http://t.co/BiOdkjo3Rr', 'entities': {'url': {'urls': [{'url': 'http://t.co/BiOdkjo3Rr', 'expanded_url': 'http://www.india.com', 'display_url': 'india.com', 'indices': [0, 22]}]}, 'description': {'urls': [{'url': 'https://t.co/RBTHZHv1ga', 'expanded_url': 'http://India.com', 'display_url': 'India.com', 'indices': [7, 30]}]}}, 'protected': False, 'followers_count': 12887, 'friends_count': 372, 'listed_count': 244, 'created_at': 'Wed Mar 04 16:20:07 +0000 2009', 'favourites_count': 317, 'utc_offset': None, 'time_zone': None, 'geo_enabled': True, 'verified': True, 'statuses_count': 194564, 'lang': None, 'contributors_enabled': False, 'is_translator': False, 'is_translation_enabled': False, 'profile_background_color': 'C0DEED', 'profile_background_image_url': 'http://abs.twimg.com/images/themes/theme1/bg.png', 'profile_background_image_url_https': 'https://abs.twimg.com/images/themes/theme1/bg.png', 'profile_background_tile': False, 'profile_image_url': 'http://pbs.twimg.com/profile_images/1149599189787013121/Uc2CuNRv_normal.png', 'profile_image_url_https': 'https://pbs.twimg.com/profile_images/1149599189787013121/Uc2CuNRv_normal.png', 'profile_banner_url': 'https://pbs.twimg.com/profile_banners/22793955/1589270359', 'profile_link_color': '1B95E0', 'profile_sidebar_border_color': 'FFFFFF', 'profile_sidebar_fill_color': 'DDEEF6', 'profile_text_color': '333333', 'profile_use_background_image': False, 'has_extended_profile': False, 'default_profile': False, 'default_profile_image': False, 'following': False, 'follow_request_sent': False, 'notifications': False, 'translator_type': 'none'}, id=22793955, id_str='22793955', name='India.com', screen_name='indiacom', location='India', description='Follow https://t.co/RBTHZHv1ga for breaking news from India and around the world, live cricket updates, Bollywood gossip, travel tips and latest trends.', url='http://t.co/BiOdkjo3Rr', entities={'url': {'urls': [{'url': 'http://t.co/BiOdkjo3Rr', 'expanded_url': 'http://www.india.com', 'display_url': 'india.com', 'indices': [0, 22]}]}, 'description': {'urls': [{'url': 'https://t.co/RBTHZHv1ga', 'expanded_url': 'http://India.com', 'display_url': 'India.com', 'indices': [7, 30]}]}}, protected=False, followers_count=12887, friends_count=372, listed_count=244, created_at=datetime.datetime(2009, 3, 4, 16, 20, 7), favourites_count=317, utc_offset=None, time_zone=None, geo_enabled=True, verified=True, statuses_count=194564, lang=None, contributors_enabled=False, is_translator=False, is_translation_enabled=False, profile_background_color='C0DEED', profile_background_image_url='http://abs.twimg.com/images/themes/theme1/bg.png', profile_background_image_url_https='https://abs.twimg.com/images/themes/theme1/bg.png', profile_background_tile=False, profile_image_url='http://pbs.twimg.com/profile_images/1149599189787013121/Uc2CuNRv_normal.png', profile_image_url_https='https://pbs.twimg.com/profile_images/1149599189787013121/Uc2CuNRv_normal.png', profile_banner_url='https://pbs.twimg.com/profile_banners/22793955/1589270359', profile_link_color='1B95E0', profile_sidebar_border_color='FFFFFF', profile_sidebar_fill_color='DDEEF6', profile_text_color='333333', profile_use_background_image=False, has_extended_profile=False, default_profile=False, default_profile_image=False, following=False, follow_request_sent=False, notifications=False, translator_type='none'), geo=None, coordinates=None, place=None, contributors=None, is_quote_status=False, retweet_count=0, favorite_count=2, favorited=False, retweeted=False, possibly_sensitive=False, lang='en') \n",
      "\n",
      ".....................................\n",
      "\n"
     ]
    }
   ],
   "source": [
    "Tweets = api.search( query , count=10 , lang='en' , exclude='retweets' , tweet_mode='extended' )\n",
    "# tweet_mode='extended'\n",
    "# tweet_mode='compat'\n",
    "\n",
    "for tweet in Tweets:\n",
    "    print(tweet,\"\\n\")\n",
    "    print(\".....................................\\n\")"
   ]
  },
  {
   "cell_type": "raw",
   "metadata": {},
   "source": [
    "Get the tweets and some Attributes"
   ]
  },
  {
   "cell_type": "code",
   "execution_count": 9,
   "metadata": {},
   "outputs": [
    {
     "name": "stdout",
     "output_type": "stream",
     "text": [
      "Empty DataFrame\n",
      "Columns: [Tweets, User, User_statuses_count, user_followers, User_location, User_verified, fav_count, rt_count, tweet_date]\n",
      "Index: []\n"
     ]
    }
   ],
   "source": [
    "df = pd.DataFrame(columns = ['Tweets' , 'User' , 'User_statuses_count' , \n",
    "                            'user_followers' , 'User_location' , 'User_verified' ,\n",
    "                            'fav_count' , 'rt_count' , 'tweet_date'] )\n",
    "print(df)\n",
    "# print(df.shape)"
   ]
  },
  {
   "cell_type": "code",
   "execution_count": 10,
   "metadata": {},
   "outputs": [],
   "source": [
    "def stream(data, file_name):\n",
    "    i = 0\n",
    "    for tweet in tweepy.Cursor(api.search, q=data, count=100, lang='en').items():\n",
    "        print(i, end='\\r')\n",
    "        df.loc[i, 'Tweets'] = tweet.text\n",
    "        df.loc[i, 'User'] = tweet.user.name\n",
    "        df.loc[i, 'User_statuses_count'] = tweet.user.statuses_count\n",
    "        df.loc[i, 'user_followers'] = tweet.user.followers_count\n",
    "        df.loc[i, 'User_location'] = tweet.user.location\n",
    "        df.loc[i, 'User_verified'] = tweet.user.verified\n",
    "        df.loc[i, 'fav_count'] = tweet.favorite_count\n",
    "        df.loc[i, 'rt_count'] = tweet.retweet_count\n",
    "        df.loc[i, 'tweet_date'] = tweet.created_at\n",
    "        df.to_excel('{}.xlsx'.format(file_name))\n",
    "        i = i+1\n",
    "        if i == 1000:\n",
    "            break\n",
    "        else:\n",
    "            pass"
   ]
  },
  {
   "cell_type": "code",
   "execution_count": 11,
   "metadata": {},
   "outputs": [
    {
     "name": "stdout",
     "output_type": "stream",
     "text": [
      "655\r"
     ]
    }
   ],
   "source": [
    "stream(data=[\"RCB winning IPL\"] , file_name='my_tweets')"
   ]
  },
  {
   "cell_type": "code",
   "execution_count": 12,
   "metadata": {},
   "outputs": [
    {
     "data": {
      "text/html": [
       "<div>\n",
       "<style scoped>\n",
       "    .dataframe tbody tr th:only-of-type {\n",
       "        vertical-align: middle;\n",
       "    }\n",
       "\n",
       "    .dataframe tbody tr th {\n",
       "        vertical-align: top;\n",
       "    }\n",
       "\n",
       "    .dataframe thead th {\n",
       "        text-align: right;\n",
       "    }\n",
       "</style>\n",
       "<table border=\"1\" class=\"dataframe\">\n",
       "  <thead>\n",
       "    <tr style=\"text-align: right;\">\n",
       "      <th></th>\n",
       "      <th>Tweets</th>\n",
       "      <th>User</th>\n",
       "      <th>User_statuses_count</th>\n",
       "      <th>user_followers</th>\n",
       "      <th>User_location</th>\n",
       "      <th>User_verified</th>\n",
       "      <th>fav_count</th>\n",
       "      <th>rt_count</th>\n",
       "      <th>tweet_date</th>\n",
       "    </tr>\n",
       "  </thead>\n",
       "  <tbody>\n",
       "    <tr>\n",
       "      <th>0</th>\n",
       "      <td>@anjubharatrawat I won't Say Rishabh Pant now ...</td>\n",
       "      <td>Aamej Shreyansh</td>\n",
       "      <td>58389</td>\n",
       "      <td>1121</td>\n",
       "      <td></td>\n",
       "      <td>False</td>\n",
       "      <td>1</td>\n",
       "      <td>0</td>\n",
       "      <td>2020-10-29 09:39:26</td>\n",
       "    </tr>\n",
       "    <tr>\n",
       "      <th>1</th>\n",
       "      <td>Twitterati reacts to #RCB captain Virat Kohli ...</td>\n",
       "      <td>Circle of Cricket</td>\n",
       "      <td>73570</td>\n",
       "      <td>112112</td>\n",
       "      <td></td>\n",
       "      <td>True</td>\n",
       "      <td>13</td>\n",
       "      <td>0</td>\n",
       "      <td>2020-10-29 09:35:56</td>\n",
       "    </tr>\n",
       "    <tr>\n",
       "      <th>2</th>\n",
       "      <td>Cheap antics-100%, performance-0%, winning % a...</td>\n",
       "      <td>thesouthernwoman</td>\n",
       "      <td>70</td>\n",
       "      <td>1</td>\n",
       "      <td></td>\n",
       "      <td>False</td>\n",
       "      <td>0</td>\n",
       "      <td>0</td>\n",
       "      <td>2020-10-29 09:26:50</td>\n",
       "    </tr>\n",
       "    <tr>\n",
       "      <th>3</th>\n",
       "      <td>Suryakumar has burning desire to don India blu...</td>\n",
       "      <td>www GiftYourHubby com</td>\n",
       "      <td>1750</td>\n",
       "      <td>36</td>\n",
       "      <td></td>\n",
       "      <td>False</td>\n",
       "      <td>0</td>\n",
       "      <td>0</td>\n",
       "      <td>2020-10-29 08:59:49</td>\n",
       "    </tr>\n",
       "    <tr>\n",
       "      <th>4</th>\n",
       "      <td>Thanks @zee24taasnews for picking my Tweet for...</td>\n",
       "      <td>Pran Parab</td>\n",
       "      <td>611</td>\n",
       "      <td>26</td>\n",
       "      <td>India</td>\n",
       "      <td>False</td>\n",
       "      <td>1</td>\n",
       "      <td>0</td>\n",
       "      <td>2020-10-29 08:55:46</td>\n",
       "    </tr>\n",
       "  </tbody>\n",
       "</table>\n",
       "</div>"
      ],
      "text/plain": [
       "                                              Tweets                   User  \\\n",
       "0  @anjubharatrawat I won't Say Rishabh Pant now ...        Aamej Shreyansh   \n",
       "1  Twitterati reacts to #RCB captain Virat Kohli ...      Circle of Cricket   \n",
       "2  Cheap antics-100%, performance-0%, winning % a...       thesouthernwoman   \n",
       "3  Suryakumar has burning desire to don India blu...  www GiftYourHubby com   \n",
       "4  Thanks @zee24taasnews for picking my Tweet for...             Pran Parab   \n",
       "\n",
       "  User_statuses_count user_followers User_location User_verified fav_count  \\\n",
       "0               58389           1121                       False         1   \n",
       "1               73570         112112                        True        13   \n",
       "2                  70              1                       False         0   \n",
       "3                1750             36                       False         0   \n",
       "4                 611             26         India         False         1   \n",
       "\n",
       "  rt_count           tweet_date  \n",
       "0        0  2020-10-29 09:39:26  \n",
       "1        0  2020-10-29 09:35:56  \n",
       "2        0  2020-10-29 09:26:50  \n",
       "3        0  2020-10-29 08:59:49  \n",
       "4        0  2020-10-29 08:55:46  "
      ]
     },
     "execution_count": 12,
     "metadata": {},
     "output_type": "execute_result"
    }
   ],
   "source": [
    "df.head()"
   ]
  },
  {
   "cell_type": "raw",
   "metadata": {},
   "source": [
    "!pip install textblob"
   ]
  },
  {
   "cell_type": "raw",
   "metadata": {},
   "source": [
    "Sentiment(polarity, subjectivity)\n",
    "\n",
    "Polarity score: [-1 , +1]\n",
    "\n",
    "Subjectivity: [0.0 , 1.0] \n",
    "where 0.0 is very Objective and 1.0 is very Subjective."
   ]
  },
  {
   "cell_type": "code",
   "execution_count": 14,
   "metadata": {},
   "outputs": [
    {
     "name": "stdout",
     "output_type": "stream",
     "text": [
      "Collecting textblob\n",
      "  Downloading textblob-0.15.3-py2.py3-none-any.whl (636 kB)\n",
      "Requirement already satisfied: nltk>=3.1 in c:\\users\\udais\\anaconda3\\lib\\site-packages (from textblob) (3.5)\n",
      "Requirement already satisfied: tqdm in c:\\users\\udais\\anaconda3\\lib\\site-packages (from nltk>=3.1->textblob) (4.47.0)\n",
      "Requirement already satisfied: click in c:\\users\\udais\\anaconda3\\lib\\site-packages (from nltk>=3.1->textblob) (7.1.2)\n",
      "Requirement already satisfied: regex in c:\\users\\udais\\anaconda3\\lib\\site-packages (from nltk>=3.1->textblob) (2020.6.8)\n",
      "Requirement already satisfied: joblib in c:\\users\\udais\\anaconda3\\lib\\site-packages (from nltk>=3.1->textblob) (0.16.0)\n",
      "Installing collected packages: textblob\n",
      "Successfully installed textblob-0.15.3\n"
     ]
    }
   ],
   "source": [
    "!pip install textblob\n",
    "from textblob import TextBlob"
   ]
  },
  {
   "cell_type": "code",
   "execution_count": 15,
   "metadata": {},
   "outputs": [],
   "source": [
    "import re\n",
    "def clean_tweet(tweet):\n",
    "    return ' '.join(re.sub('(@[A-Za-z0-9]+)|([^0-9A-Za-z \\t])|(\\w+:\\/\\/\\S+)', ' ', tweet).split())"
   ]
  },
  {
   "cell_type": "code",
   "execution_count": 16,
   "metadata": {},
   "outputs": [],
   "source": [
    "def analyze_sentiment(tweet):\n",
    "    analysis = TextBlob(tweet)\n",
    "    if analysis.sentiment.polarity > 0:\n",
    "        return 'Positive'\n",
    "    elif analysis.sentiment.polarity == 0:\n",
    "        return 'Neutral'\n",
    "    else:\n",
    "        return 'Negative'"
   ]
  },
  {
   "cell_type": "code",
   "execution_count": 17,
   "metadata": {},
   "outputs": [],
   "source": [
    "df['clean_tweet'] = df['Tweets'].apply(lambda x : clean_tweet(x))"
   ]
  },
  {
   "cell_type": "code",
   "execution_count": 18,
   "metadata": {},
   "outputs": [
    {
     "data": {
      "text/html": [
       "<div>\n",
       "<style scoped>\n",
       "    .dataframe tbody tr th:only-of-type {\n",
       "        vertical-align: middle;\n",
       "    }\n",
       "\n",
       "    .dataframe tbody tr th {\n",
       "        vertical-align: top;\n",
       "    }\n",
       "\n",
       "    .dataframe thead th {\n",
       "        text-align: right;\n",
       "    }\n",
       "</style>\n",
       "<table border=\"1\" class=\"dataframe\">\n",
       "  <thead>\n",
       "    <tr style=\"text-align: right;\">\n",
       "      <th></th>\n",
       "      <th>Tweets</th>\n",
       "      <th>User</th>\n",
       "      <th>User_statuses_count</th>\n",
       "      <th>user_followers</th>\n",
       "      <th>User_location</th>\n",
       "      <th>User_verified</th>\n",
       "      <th>fav_count</th>\n",
       "      <th>rt_count</th>\n",
       "      <th>tweet_date</th>\n",
       "      <th>clean_tweet</th>\n",
       "    </tr>\n",
       "  </thead>\n",
       "  <tbody>\n",
       "    <tr>\n",
       "      <th>0</th>\n",
       "      <td>@anjubharatrawat I won't Say Rishabh Pant now ...</td>\n",
       "      <td>Aamej Shreyansh</td>\n",
       "      <td>58389</td>\n",
       "      <td>1121</td>\n",
       "      <td></td>\n",
       "      <td>False</td>\n",
       "      <td>1</td>\n",
       "      <td>0</td>\n",
       "      <td>2020-10-29 09:39:26</td>\n",
       "      <td>I won t Say Rishabh Pant now as well bcoz i fe...</td>\n",
       "    </tr>\n",
       "    <tr>\n",
       "      <th>1</th>\n",
       "      <td>Twitterati reacts to #RCB captain Virat Kohli ...</td>\n",
       "      <td>Circle of Cricket</td>\n",
       "      <td>73570</td>\n",
       "      <td>112112</td>\n",
       "      <td></td>\n",
       "      <td>True</td>\n",
       "      <td>13</td>\n",
       "      <td>0</td>\n",
       "      <td>2020-10-29 09:35:56</td>\n",
       "      <td>Twitterati reacts to RCB captain Virat Kohli s...</td>\n",
       "    </tr>\n",
       "    <tr>\n",
       "      <th>2</th>\n",
       "      <td>Cheap antics-100%, performance-0%, winning % a...</td>\n",
       "      <td>thesouthernwoman</td>\n",
       "      <td>70</td>\n",
       "      <td>1</td>\n",
       "      <td></td>\n",
       "      <td>False</td>\n",
       "      <td>0</td>\n",
       "      <td>0</td>\n",
       "      <td>2020-10-29 09:26:50</td>\n",
       "      <td>Cheap antics 100 performance 0 winning as RCB ...</td>\n",
       "    </tr>\n",
       "    <tr>\n",
       "      <th>3</th>\n",
       "      <td>Suryakumar has burning desire to don India blu...</td>\n",
       "      <td>www GiftYourHubby com</td>\n",
       "      <td>1750</td>\n",
       "      <td>36</td>\n",
       "      <td></td>\n",
       "      <td>False</td>\n",
       "      <td>0</td>\n",
       "      <td>0</td>\n",
       "      <td>2020-10-29 08:59:49</td>\n",
       "      <td>Suryakumar has burning desire to don India blu...</td>\n",
       "    </tr>\n",
       "    <tr>\n",
       "      <th>4</th>\n",
       "      <td>Thanks @zee24taasnews for picking my Tweet for...</td>\n",
       "      <td>Pran Parab</td>\n",
       "      <td>611</td>\n",
       "      <td>26</td>\n",
       "      <td>India</td>\n",
       "      <td>False</td>\n",
       "      <td>1</td>\n",
       "      <td>0</td>\n",
       "      <td>2020-10-29 08:55:46</td>\n",
       "      <td>Thanks for picking my Tweet for match between ...</td>\n",
       "    </tr>\n",
       "  </tbody>\n",
       "</table>\n",
       "</div>"
      ],
      "text/plain": [
       "                                              Tweets                   User  \\\n",
       "0  @anjubharatrawat I won't Say Rishabh Pant now ...        Aamej Shreyansh   \n",
       "1  Twitterati reacts to #RCB captain Virat Kohli ...      Circle of Cricket   \n",
       "2  Cheap antics-100%, performance-0%, winning % a...       thesouthernwoman   \n",
       "3  Suryakumar has burning desire to don India blu...  www GiftYourHubby com   \n",
       "4  Thanks @zee24taasnews for picking my Tweet for...             Pran Parab   \n",
       "\n",
       "  User_statuses_count user_followers User_location User_verified fav_count  \\\n",
       "0               58389           1121                       False         1   \n",
       "1               73570         112112                        True        13   \n",
       "2                  70              1                       False         0   \n",
       "3                1750             36                       False         0   \n",
       "4                 611             26         India         False         1   \n",
       "\n",
       "  rt_count           tweet_date  \\\n",
       "0        0  2020-10-29 09:39:26   \n",
       "1        0  2020-10-29 09:35:56   \n",
       "2        0  2020-10-29 09:26:50   \n",
       "3        0  2020-10-29 08:59:49   \n",
       "4        0  2020-10-29 08:55:46   \n",
       "\n",
       "                                         clean_tweet  \n",
       "0  I won t Say Rishabh Pant now as well bcoz i fe...  \n",
       "1  Twitterati reacts to RCB captain Virat Kohli s...  \n",
       "2  Cheap antics 100 performance 0 winning as RCB ...  \n",
       "3  Suryakumar has burning desire to don India blu...  \n",
       "4  Thanks for picking my Tweet for match between ...  "
      ]
     },
     "execution_count": 18,
     "metadata": {},
     "output_type": "execute_result"
    }
   ],
   "source": [
    "df.head()"
   ]
  },
  {
   "cell_type": "code",
   "execution_count": 19,
   "metadata": {},
   "outputs": [
    {
     "data": {
      "text/html": [
       "<div>\n",
       "<style scoped>\n",
       "    .dataframe tbody tr th:only-of-type {\n",
       "        vertical-align: middle;\n",
       "    }\n",
       "\n",
       "    .dataframe tbody tr th {\n",
       "        vertical-align: top;\n",
       "    }\n",
       "\n",
       "    .dataframe thead th {\n",
       "        text-align: right;\n",
       "    }\n",
       "</style>\n",
       "<table border=\"1\" class=\"dataframe\">\n",
       "  <thead>\n",
       "    <tr style=\"text-align: right;\">\n",
       "      <th></th>\n",
       "      <th>Tweets</th>\n",
       "      <th>User</th>\n",
       "      <th>User_statuses_count</th>\n",
       "      <th>user_followers</th>\n",
       "      <th>User_location</th>\n",
       "      <th>User_verified</th>\n",
       "      <th>fav_count</th>\n",
       "      <th>rt_count</th>\n",
       "      <th>tweet_date</th>\n",
       "      <th>clean_tweet</th>\n",
       "      <th>Sentiment</th>\n",
       "    </tr>\n",
       "  </thead>\n",
       "  <tbody>\n",
       "    <tr>\n",
       "      <th>0</th>\n",
       "      <td>@anjubharatrawat I won't Say Rishabh Pant now ...</td>\n",
       "      <td>Aamej Shreyansh</td>\n",
       "      <td>58389</td>\n",
       "      <td>1121</td>\n",
       "      <td></td>\n",
       "      <td>False</td>\n",
       "      <td>1</td>\n",
       "      <td>0</td>\n",
       "      <td>2020-10-29 09:39:26</td>\n",
       "      <td>I won t Say Rishabh Pant now as well bcoz i fe...</td>\n",
       "      <td>Positive</td>\n",
       "    </tr>\n",
       "    <tr>\n",
       "      <th>1</th>\n",
       "      <td>Twitterati reacts to #RCB captain Virat Kohli ...</td>\n",
       "      <td>Circle of Cricket</td>\n",
       "      <td>73570</td>\n",
       "      <td>112112</td>\n",
       "      <td></td>\n",
       "      <td>True</td>\n",
       "      <td>13</td>\n",
       "      <td>0</td>\n",
       "      <td>2020-10-29 09:35:56</td>\n",
       "      <td>Twitterati reacts to RCB captain Virat Kohli s...</td>\n",
       "      <td>Positive</td>\n",
       "    </tr>\n",
       "    <tr>\n",
       "      <th>2</th>\n",
       "      <td>Cheap antics-100%, performance-0%, winning % a...</td>\n",
       "      <td>thesouthernwoman</td>\n",
       "      <td>70</td>\n",
       "      <td>1</td>\n",
       "      <td></td>\n",
       "      <td>False</td>\n",
       "      <td>0</td>\n",
       "      <td>0</td>\n",
       "      <td>2020-10-29 09:26:50</td>\n",
       "      <td>Cheap antics 100 performance 0 winning as RCB ...</td>\n",
       "      <td>Positive</td>\n",
       "    </tr>\n",
       "    <tr>\n",
       "      <th>3</th>\n",
       "      <td>Suryakumar has burning desire to don India blu...</td>\n",
       "      <td>www GiftYourHubby com</td>\n",
       "      <td>1750</td>\n",
       "      <td>36</td>\n",
       "      <td></td>\n",
       "      <td>False</td>\n",
       "      <td>0</td>\n",
       "      <td>0</td>\n",
       "      <td>2020-10-29 08:59:49</td>\n",
       "      <td>Suryakumar has burning desire to don India blu...</td>\n",
       "      <td>Neutral</td>\n",
       "    </tr>\n",
       "    <tr>\n",
       "      <th>4</th>\n",
       "      <td>Thanks @zee24taasnews for picking my Tweet for...</td>\n",
       "      <td>Pran Parab</td>\n",
       "      <td>611</td>\n",
       "      <td>26</td>\n",
       "      <td>India</td>\n",
       "      <td>False</td>\n",
       "      <td>1</td>\n",
       "      <td>0</td>\n",
       "      <td>2020-10-29 08:55:46</td>\n",
       "      <td>Thanks for picking my Tweet for match between ...</td>\n",
       "      <td>Positive</td>\n",
       "    </tr>\n",
       "  </tbody>\n",
       "</table>\n",
       "</div>"
      ],
      "text/plain": [
       "                                              Tweets                   User  \\\n",
       "0  @anjubharatrawat I won't Say Rishabh Pant now ...        Aamej Shreyansh   \n",
       "1  Twitterati reacts to #RCB captain Virat Kohli ...      Circle of Cricket   \n",
       "2  Cheap antics-100%, performance-0%, winning % a...       thesouthernwoman   \n",
       "3  Suryakumar has burning desire to don India blu...  www GiftYourHubby com   \n",
       "4  Thanks @zee24taasnews for picking my Tweet for...             Pran Parab   \n",
       "\n",
       "  User_statuses_count user_followers User_location User_verified fav_count  \\\n",
       "0               58389           1121                       False         1   \n",
       "1               73570         112112                        True        13   \n",
       "2                  70              1                       False         0   \n",
       "3                1750             36                       False         0   \n",
       "4                 611             26         India         False         1   \n",
       "\n",
       "  rt_count           tweet_date  \\\n",
       "0        0  2020-10-29 09:39:26   \n",
       "1        0  2020-10-29 09:35:56   \n",
       "2        0  2020-10-29 09:26:50   \n",
       "3        0  2020-10-29 08:59:49   \n",
       "4        0  2020-10-29 08:55:46   \n",
       "\n",
       "                                         clean_tweet Sentiment  \n",
       "0  I won t Say Rishabh Pant now as well bcoz i fe...  Positive  \n",
       "1  Twitterati reacts to RCB captain Virat Kohli s...  Positive  \n",
       "2  Cheap antics 100 performance 0 winning as RCB ...  Positive  \n",
       "3  Suryakumar has burning desire to don India blu...   Neutral  \n",
       "4  Thanks for picking my Tweet for match between ...  Positive  "
      ]
     },
     "execution_count": 19,
     "metadata": {},
     "output_type": "execute_result"
    }
   ],
   "source": [
    "df['Sentiment'] = df['clean_tweet'].apply(lambda x : analyze_sentiment(x) )\n",
    "df.head()"
   ]
  },
  {
   "cell_type": "code",
   "execution_count": 20,
   "metadata": {},
   "outputs": [
    {
     "name": "stdout",
     "output_type": "stream",
     "text": [
      "Original tweet:\n",
      " Twitterati reacts to #RCB captain Virat Kohli staring at Surya Kumar Yadav during his match-winning knock for… https://t.co/QZoBwD8pW0\n",
      "\n",
      "Clean tweet:\n",
      " Twitterati reacts to RCB captain Virat Kohli staring at Surya Kumar Yadav during his match winning knock for\n",
      "\n",
      "Sentiment of the tweet:\n",
      " Positive\n"
     ]
    }
   ],
   "source": [
    "n = 1\n",
    "print(\"Original tweet:\\n\",df['Tweets'][n])\n",
    "print()\n",
    "print(\"Clean tweet:\\n\",df['clean_tweet'][n])\n",
    "print()\n",
    "print(\"Sentiment of the tweet:\\n\",df['Sentiment'][n])"
   ]
  },
  {
   "cell_type": "code",
   "execution_count": 21,
   "metadata": {},
   "outputs": [
    {
     "name": "stdout",
     "output_type": "stream",
     "text": [
      "Original tweet:\n",
      " RT @IndiaTVSports: #IPL2020 Hope selectors are watching: Harbhajan Singh hails #Suryakumar's match-winning knock against RCB\n",
      "\n",
      "https://t.co/…\n",
      "\n",
      "Clean tweet:\n",
      " RT IPL2020 Hope selectors are watching Harbhajan Singh hails Suryakumar s match winning knock against RCB\n",
      "\n",
      "Sentiment of the tweet:\n",
      " Positive\n"
     ]
    }
   ],
   "source": [
    "n = 20\n",
    "print(\"Original tweet:\\n\",df['Tweets'][n])\n",
    "print()\n",
    "print(\"Clean tweet:\\n\",df['clean_tweet'][n])\n",
    "print()\n",
    "print(\"Sentiment of the tweet:\\n\",df['Sentiment'][n])"
   ]
  },
  {
   "cell_type": "code",
   "execution_count": 22,
   "metadata": {},
   "outputs": [
    {
     "name": "stdout",
     "output_type": "stream",
     "text": [
      "Original tweet:\n",
      " RT @Trendulkar: Rohit Sharma is not in the Australia tour squad. So he is out of the IPL too then? So RCB is winning the final against MI?…\n",
      "\n",
      "Clean tweet:\n",
      " RT Rohit Sharma is not in the Australia tour squad So he is out of the IPL too then So RCB is winning the final against MI\n",
      "\n",
      "Sentiment of the tweet:\n",
      " Positive\n"
     ]
    }
   ],
   "source": [
    "n = 203\n",
    "print(\"Original tweet:\\n\",df['Tweets'][n])\n",
    "print()\n",
    "print(\"Clean tweet:\\n\",df['clean_tweet'][n])\n",
    "print()\n",
    "print(\"Sentiment of the tweet:\\n\",df['Sentiment'][n])"
   ]
  },
  {
   "cell_type": "code",
   "execution_count": 23,
   "metadata": {},
   "outputs": [
    {
     "data": {
      "text/plain": [
       "570"
      ]
     },
     "execution_count": 23,
     "metadata": {},
     "output_type": "execute_result"
    }
   ],
   "source": [
    "df[df.Sentiment == 'Positive'].shape[0]"
   ]
  },
  {
   "cell_type": "code",
   "execution_count": 24,
   "metadata": {},
   "outputs": [
    {
     "data": {
      "text/plain": [
       "48"
      ]
     },
     "execution_count": 24,
     "metadata": {},
     "output_type": "execute_result"
    }
   ],
   "source": [
    "df[df.Sentiment == 'Neutral'].shape[0]"
   ]
  },
  {
   "cell_type": "code",
   "execution_count": 25,
   "metadata": {},
   "outputs": [
    {
     "data": {
      "text/plain": [
       "38"
      ]
     },
     "execution_count": 25,
     "metadata": {},
     "output_type": "execute_result"
    }
   ],
   "source": [
    "df[df.Sentiment == 'Negative'].shape[0]"
   ]
  },
  {
   "cell_type": "markdown",
   "metadata": {},
   "source": [
    "# Happy Learning"
   ]
  },
  {
   "cell_type": "code",
   "execution_count": null,
   "metadata": {},
   "outputs": [],
   "source": []
  },
  {
   "cell_type": "code",
   "execution_count": null,
   "metadata": {},
   "outputs": [],
   "source": []
  },
  {
   "cell_type": "code",
   "execution_count": null,
   "metadata": {},
   "outputs": [],
   "source": []
  }
 ],
 "metadata": {
  "kernelspec": {
   "display_name": "Python 3",
   "language": "python",
   "name": "python3"
  },
  "language_info": {
   "codemirror_mode": {
    "name": "ipython",
    "version": 3
   },
   "file_extension": ".py",
   "mimetype": "text/x-python",
   "name": "python",
   "nbconvert_exporter": "python",
   "pygments_lexer": "ipython3",
   "version": "3.8.3"
  },
  "varInspector": {
   "cols": {
    "lenName": 16,
    "lenType": 16,
    "lenVar": 40
   },
   "kernels_config": {
    "python": {
     "delete_cmd_postfix": "",
     "delete_cmd_prefix": "del ",
     "library": "var_list.py",
     "varRefreshCmd": "print(var_dic_list())"
    },
    "r": {
     "delete_cmd_postfix": ") ",
     "delete_cmd_prefix": "rm(",
     "library": "var_list.r",
     "varRefreshCmd": "cat(var_dic_list()) "
    }
   },
   "types_to_exclude": [
    "module",
    "function",
    "builtin_function_or_method",
    "instance",
    "_Feature"
   ],
   "window_display": false
  }
 },
 "nbformat": 4,
 "nbformat_minor": 4
}
