{
 "cells": [
  {
   "cell_type": "markdown",
   "metadata": {},
   "source": [
    "# 1. Create a 3x3x3 array with random values "
   ]
  },
  {
   "cell_type": "code",
   "execution_count": 1,
   "metadata": {},
   "outputs": [],
   "source": [
    "import pandas as pd\n",
    "import numpy as np\n",
    "import matplotlib.pyplot as plt\n",
    "import seaborn as sns\n"
   ]
  },
  {
   "cell_type": "code",
   "execution_count": 6,
   "metadata": {},
   "outputs": [
    {
     "name": "stdout",
     "output_type": "stream",
     "text": [
      "The shape of array is : (3, 3, 3)\n",
      "\n",
      " [[[0.33035623 0.20933937 0.43808014]\n",
      "  [0.90572497 0.46254424 0.74465619]\n",
      "  [0.13591262 0.79284559 0.89709991]]\n",
      "\n",
      " [[0.57769182 0.65721859 0.91510842]\n",
      "  [0.5777418  0.68625685 0.71788986]\n",
      "  [0.25252776 0.62693244 0.80562736]]\n",
      "\n",
      " [[0.78091868 0.17028163 0.35586093]\n",
      "  [0.76492428 0.72208111 0.36505379]\n",
      "  [0.61703501 0.65175336 0.39781862]]]\n"
     ]
    }
   ],
   "source": [
    "data = np.random.random((3,3,3))\n",
    "print(f\"The shape of array is : {data.shape}\")\n",
    "print('\\n',data)"
   ]
  },
  {
   "cell_type": "markdown",
   "metadata": {},
   "source": [
    "# 2.Create a 5x5 matrix with values 1,2,3,4 just below the diagonal"
   ]
  },
  {
   "cell_type": "code",
   "execution_count": 11,
   "metadata": {},
   "outputs": [
    {
     "name": "stdout",
     "output_type": "stream",
     "text": [
      "[[1. 0. 0. 0. 0.]\n",
      " [0. 1. 0. 0. 0.]\n",
      " [0. 0. 1. 0. 0.]\n",
      " [0. 0. 0. 1. 0.]\n",
      " [0. 0. 0. 0. 1.]]\n"
     ]
    }
   ],
   "source": [
    "x = np.eye(5,5)\n",
    "print(x)\n",
    "x[1][0] = 1\n",
    "x[2][1] = 2\n",
    "x[3][2] = 3\n",
    "x[4][3] = 4"
   ]
  },
  {
   "cell_type": "code",
   "execution_count": 12,
   "metadata": {},
   "outputs": [
    {
     "data": {
      "text/plain": [
       "array([[1., 0., 0., 0., 0.],\n",
       "       [1., 1., 0., 0., 0.],\n",
       "       [0., 2., 1., 0., 0.],\n",
       "       [0., 0., 3., 1., 0.],\n",
       "       [0., 0., 0., 4., 1.]])"
      ]
     },
     "execution_count": 12,
     "metadata": {},
     "output_type": "execute_result"
    }
   ],
   "source": [
    "x"
   ]
  },
  {
   "cell_type": "markdown",
   "metadata": {},
   "source": [
    "# OR\n"
   ]
  },
  {
   "cell_type": "code",
   "execution_count": 137,
   "metadata": {},
   "outputs": [
    {
     "name": "stdout",
     "output_type": "stream",
     "text": [
      "[[0 0 0 0 0]\n",
      " [1 0 0 0 0]\n",
      " [0 2 0 0 0]\n",
      " [0 0 3 0 0]\n",
      " [0 0 0 4 0]]\n"
     ]
    }
   ],
   "source": [
    "x = np.diag(1+np.arange(4), k = -1)\n",
    "print (x)"
   ]
  },
  {
   "cell_type": "markdown",
   "metadata": {},
   "source": [
    "# 3.Create a 8x8 matrix and fill it with a checkerboard pattern"
   ]
  },
  {
   "cell_type": "code",
   "execution_count": 27,
   "metadata": {},
   "outputs": [
    {
     "name": "stdout",
     "output_type": "stream",
     "text": [
      "Checkerboard pattern:\n",
      "[[0 1 0 1 0 1 0 1]\n",
      " [1 0 1 0 1 0 1 0]\n",
      " [0 1 0 1 0 1 0 1]\n",
      " [1 0 1 0 1 0 1 0]\n",
      " [0 1 0 1 0 1 0 1]\n",
      " [1 0 1 0 1 0 1 0]\n",
      " [0 1 0 1 0 1 0 1]\n",
      " [1 0 1 0 1 0 1 0]]\n"
     ]
    }
   ],
   "source": [
    "print(\"Checkerboard pattern:\")\n",
    "data = np.zeros((8,8),dtype=int)\n",
    "data[1::2,::2] = 1\n",
    "data[::2,1::2] = 1\n",
    "print(data)"
   ]
  },
  {
   "cell_type": "markdown",
   "metadata": {},
   "source": [
    "# 4. Normalize a 5x5 random matrix"
   ]
  },
  {
   "cell_type": "code",
   "execution_count": 29,
   "metadata": {},
   "outputs": [
    {
     "name": "stdout",
     "output_type": "stream",
     "text": [
      "Original Array:\n",
      "[[0.48146029 0.41056467 0.09881197 0.35977279 0.73564142]\n",
      " [0.674353   0.74427222 0.55170668 0.9174469  0.383774  ]\n",
      " [0.54841418 0.0143097  0.54250052 0.77535238 0.17173952]\n",
      " [0.79208492 0.8367922  0.60582457 0.77049963 0.24094294]\n",
      " [0.62473679 0.75914265 0.35671692 0.29990578 0.65651629]]\n",
      "\n",
      " The max value is : 0.9174469014843082 and the min value is 0.014309695444259085\n",
      "\n",
      "After normalization:\n",
      "[[0.51725318 0.4387539  0.09356527 0.38251452 0.79869562]\n",
      " [0.73083392 0.80825208 0.5950336  1.         0.4090899 ]\n",
      " [0.59138798 0.         0.58484007 0.84266563 0.1743144 ]\n",
      " [0.86119276 0.91069496 0.65495572 0.83729242 0.25093999]\n",
      " [0.67589629 0.82471738 0.37913091 0.31622669 0.71108419]]\n"
     ]
    }
   ],
   "source": [
    "x= np.random.random((5,5))\n",
    "print(\"Original Array:\")\n",
    "print(x)\n",
    "xmax, xmin = x.max(), x.min()\n",
    "print(f\"\\n The max value is : {xmax} and the min value is {xmin}\")\n",
    "x = (x - xmin)/(xmax - xmin)\n",
    "print(\"\\nAfter normalization:\")\n",
    "print(x)"
   ]
  },
  {
   "cell_type": "markdown",
   "metadata": {},
   "source": [
    "# 5.  How to find common values between two arrays?"
   ]
  },
  {
   "cell_type": "code",
   "execution_count": 30,
   "metadata": {},
   "outputs": [
    {
     "name": "stdout",
     "output_type": "stream",
     "text": [
      "First Array is :  [ 0 10 20 40 60]\n",
      "Second Array is :  [10, 30, 40]\n",
      "Common values between two arrays :\n",
      "[10 40]\n"
     ]
    }
   ],
   "source": [
    "data1 = np.array([0, 10, 20, 40, 60])\n",
    "print(\"First Array is : \",data1)\n",
    "data2 = [10, 30, 40]\n",
    "print(\"Second Array is : \",data2)\n",
    "print(\"Common values between two arrays :\")\n",
    "print(np.intersect1d(data1, data2))"
   ]
  },
  {
   "cell_type": "markdown",
   "metadata": {},
   "source": [
    "# 6.How to get the dates of yesterday, today and tomorrow?"
   ]
  },
  {
   "cell_type": "code",
   "execution_count": 53,
   "metadata": {},
   "outputs": [
    {
     "name": "stdout",
     "output_type": "stream",
     "text": [
      "2020-07-26 12:31:00.777418\n"
     ]
    }
   ],
   "source": [
    "import datetime as dt\n",
    "from datetime import *\n",
    "\n",
    "x = dt.datetime.now()\n",
    "print(x)"
   ]
  },
  {
   "cell_type": "code",
   "execution_count": 74,
   "metadata": {},
   "outputs": [],
   "source": [
    "from datetime import date \n",
    "from datetime import *"
   ]
  },
  {
   "cell_type": "code",
   "execution_count": 78,
   "metadata": {},
   "outputs": [
    {
     "name": "stdout",
     "output_type": "stream",
     "text": [
      "Yesterday :  2020-07-25\n",
      "Today :  2020-07-26\n",
      "Tomorrow :  2020-07-27\n"
     ]
    }
   ],
   "source": [
    "today = date.today()\n",
    "yesterday = today - timedelta(days = 1)\n",
    "tomorrow = today +timedelta(days = 1) \n",
    "print('Yesterday : ',yesterday)\n",
    "print('Today : ',today)\n",
    "print('Tomorrow : ',tomorrow)"
   ]
  },
  {
   "cell_type": "markdown",
   "metadata": {},
   "source": [
    "# 7. Consider two random array A and B, check if they are equal"
   ]
  },
  {
   "cell_type": "code",
   "execution_count": 98,
   "metadata": {},
   "outputs": [
    {
     "name": "stdout",
     "output_type": "stream",
     "text": [
      "First array:\n",
      "[1 1 0 0 0 1]\n",
      "Second array:\n",
      "[1 0 0 0 1 1]\n",
      "Test above two arrays are equal or not!\n",
      "False\n"
     ]
    }
   ],
   "source": [
    "x = np.random.randint(0,2,6)\n",
    "print(\"First array:\")\n",
    "print(x)\n",
    "y = np.random.randint(0,2,6)\n",
    "print(\"Second array:\")\n",
    "print(y)\n",
    "print(\"Test above two arrays are equal or not!\")\n",
    "array_equal = np.allclose(x, y)\n",
    "print(array_equal)"
   ]
  },
  {
   "cell_type": "markdown",
   "metadata": {},
   "source": [
    "# 8.Create random vector of size 10 and replace the maximum value by 0 "
   ]
  },
  {
   "cell_type": "code",
   "execution_count": 119,
   "metadata": {},
   "outputs": [
    {
     "name": "stdout",
     "output_type": "stream",
     "text": [
      "Original array:\n",
      "[0.42261538 0.70972145 0.32694454 0.45335543 0.63134346 0.93945091\n",
      " 0.46334897 0.95611191 0.89932014 0.72226611 0.91371883 0.60406659\n",
      " 0.16487633 0.02802511 0.91778205]\n",
      "Maximum value replaced by 0 :\n",
      "[0.42261538 0.70972145 0.32694454 0.45335543 0.63134346 0.93945091\n",
      " 0.46334897 0.         0.89932014 0.72226611 0.91371883 0.60406659\n",
      " 0.16487633 0.02802511 0.91778205]\n"
     ]
    }
   ],
   "source": [
    "x = np.random.random(15)\n",
    "print(\"Original array:\")\n",
    "print(x)\n",
    "x[x.argmax()] = 0\n",
    "print(\"Maximum value replaced by 0 :\")\n",
    "print(x)"
   ]
  },
  {
   "cell_type": "markdown",
   "metadata": {},
   "source": [
    "# 9. How to print all the values of an array?"
   ]
  },
  {
   "cell_type": "code",
   "execution_count": 131,
   "metadata": {},
   "outputs": [
    {
     "name": "stdout",
     "output_type": "stream",
     "text": [
      "[[0.95732817 0.05920699 0.5542334  0.92561818]\n",
      " [0.77482495 0.15533748 0.88476555 0.39821792]\n",
      " [0.33089179 0.91696545 0.48494419 0.35051577]\n",
      " [0.45858878 0.98072652 0.89274307 0.83868546]]\n"
     ]
    }
   ],
   "source": [
    "import numpy as np\n",
    "np.set_printoptions(threshold=sys.maxsize)\n",
    "x = np.random.random((4, 4))\n",
    "print(x)"
   ]
  },
  {
   "cell_type": "markdown",
   "metadata": {},
   "source": [
    "# 10.Subtract the mean of each row of a matrix"
   ]
  },
  {
   "cell_type": "code",
   "execution_count": 135,
   "metadata": {},
   "outputs": [
    {
     "name": "stdout",
     "output_type": "stream",
     "text": [
      "Original matrix:\n",
      "\n",
      "[[0.15965038 0.33656146 0.66069988 0.3345265  0.1864836  0.49746706\n",
      "  0.44821605 0.08450253 0.39675074 0.95860125]\n",
      " [0.31269332 0.02728166 0.88335092 0.11273902 0.48743019 0.14484812\n",
      "  0.62177916 0.47954481 0.73086259 0.64792699]\n",
      " [0.9651683  0.58067401 0.95310791 0.12107939 0.58919533 0.28465157\n",
      "  0.18145773 0.26465051 0.45162229 0.1745999 ]\n",
      " [0.8123177  0.86692752 0.17277026 0.28319518 0.59483788 0.25950333\n",
      "  0.25268472 0.67968923 0.47050621 0.63286437]\n",
      " [0.43418286 0.7405758  0.73216621 0.59395184 0.37077178 0.30057415\n",
      "  0.54214052 0.8323206  0.87205979 0.45463508]]\n",
      "\n",
      "Subtract the mean of each row of the said matrix:\n",
      "\n",
      "[[-0.24669557 -0.06978449  0.25435394 -0.07181945 -0.21986235  0.09112111\n",
      "   0.04187011 -0.32184342 -0.0095952   0.5522553 ]\n",
      " [-0.13215236 -0.41756402  0.43850524 -0.33210666  0.04258451 -0.29999756\n",
      "   0.17693348  0.03469913  0.28601691  0.20308131]\n",
      " [ 0.5085476   0.12405331  0.49648721 -0.3355413   0.13257464 -0.17196912\n",
      "  -0.27516297 -0.19197018 -0.0049984  -0.28202079]\n",
      " [ 0.30978806  0.36439788 -0.32975938 -0.21933446  0.09230824 -0.24302631\n",
      "  -0.24984492  0.17715959 -0.03202343  0.13033473]\n",
      " [-0.153155    0.15323794  0.14482834  0.00661398 -0.21656608 -0.28676371\n",
      "  -0.04519734  0.24498273  0.28472193 -0.13270278]]\n"
     ]
    }
   ],
   "source": [
    "import numpy as np\n",
    "print(\"Original matrix:\\n\")\n",
    "X = np.random.rand(5, 10)\n",
    "print(X)\n",
    "print(\"\\nSubtract the mean of each row of the said matrix:\\n\")\n",
    "Y = X - X.mean(axis=1, keepdims=True)\n",
    "print(Y)"
   ]
  },
  {
   "cell_type": "markdown",
   "metadata": {},
   "source": [
    "# 11.Consider a given vector, how to add 1 to each element indexed by a second vector (be careful with repeated indices)? "
   ]
  },
  {
   "cell_type": "code",
   "execution_count": 138,
   "metadata": {},
   "outputs": [
    {
     "name": "stdout",
     "output_type": "stream",
     "text": [
      "[2. 4. 3. 3. 2. 4. 2. 3. 5. 2.]\n"
     ]
    }
   ],
   "source": [
    "Z = np.ones(10)\n",
    "I = np.random.randint(0,len(Z),20)\n",
    "Z += np.bincount(I, minlength=len(Z))\n",
    "print(Z)\n"
   ]
  },
  {
   "cell_type": "code",
   "execution_count": null,
   "metadata": {},
   "outputs": [],
   "source": []
  },
  {
   "cell_type": "markdown",
   "metadata": {},
   "source": [
    "# 12.How to get the diagonal of a dot product?"
   ]
  },
  {
   "cell_type": "code",
   "execution_count": 139,
   "metadata": {},
   "outputs": [
    {
     "data": {
      "text/plain": [
       "array([ 94, 156,   9])"
      ]
     },
     "execution_count": 139,
     "metadata": {},
     "output_type": "execute_result"
    }
   ],
   "source": [
    "A = np.random.randint(0,10,(3,3))\n",
    "B= np.random.randint(0,10,(3,3))\n",
    "#Slow version\n",
    "\n",
    "np.diag(np.dot(A, B))\n",
    "\n",
    "# Fast version\n",
    "np.sum(A * B.T, axis=1)\n",
    "\n",
    "# Faster version\n",
    "np.einsum(\"ij,ji->i\", A, B)"
   ]
  },
  {
   "cell_type": "markdown",
   "metadata": {},
   "source": [
    "# 13.How to find the most frequent value in an array?"
   ]
  },
  {
   "cell_type": "code",
   "execution_count": 141,
   "metadata": {},
   "outputs": [
    {
     "name": "stdout",
     "output_type": "stream",
     "text": [
      "[1 7 0 6 8 1 3 7 8 8 2 5 6 3 9 2 7 9 6 9 5 8 7 6 0 2 6 2 8 0 5 5 0 8 5 7 5\n",
      " 5 5 1 9 3 9 6 7 7 8 3 0 8]\n",
      "rank: 5\n"
     ]
    }
   ],
   "source": [
    "Z = np.random.randint(0,10,50)\n",
    "print (Z)\n",
    "print('rank:', np.bincount(Z).argmax())"
   ]
  },
  {
   "cell_type": "markdown",
   "metadata": {},
   "source": [
    "# 14.How to get the n largest values of an array"
   ]
  },
  {
   "cell_type": "code",
   "execution_count": 142,
   "metadata": {},
   "outputs": [
    {
     "name": "stdout",
     "output_type": "stream",
     "text": [
      "[9995 9996 9997 9998 9999]\n",
      "[9998 9996 9999 9997 9995]\n"
     ]
    }
   ],
   "source": [
    "Z = np.arange(10000)\n",
    "np.random.shuffle(Z)\n",
    "n = 5\n",
    "\n",
    "# Slow\n",
    "print (Z[np.argsort(Z)[-n:]])\n",
    "\n",
    "# Fast\n",
    "print (Z[np.argpartition(-Z,n)[:n]])"
   ]
  },
  {
   "cell_type": "markdown",
   "metadata": {},
   "source": [
    "# 15.How to create a record array from a regular array?"
   ]
  },
  {
   "cell_type": "code",
   "execution_count": 143,
   "metadata": {},
   "outputs": [],
   "source": [
    "Z = np.array([(\"Hello\", 2.5, 3),\n",
    "              (\"World\", 3.6, 2)])\n",
    "R = np.core.records.fromarrays(Z.T,\n",
    "                               names='col1, col2, col3',\n",
    "                               formats = 'S8, f8, i8')"
   ]
  },
  {
   "cell_type": "code",
   "execution_count": 144,
   "metadata": {},
   "outputs": [
    {
     "name": "stdout",
     "output_type": "stream",
     "text": [
      "[['Hello' '2.5' '3']\n",
      " ['World' '3.6' '2']]\n",
      "[(b'Hello', 2.5, 3) (b'World', 3.6, 2)]\n"
     ]
    }
   ],
   "source": [
    "print(Z)\n",
    "print(R)"
   ]
  }
 ],
 "metadata": {
  "kernelspec": {
   "display_name": "Python 3",
   "language": "python",
   "name": "python3"
  },
  "language_info": {
   "codemirror_mode": {
    "name": "ipython",
    "version": 3
   },
   "file_extension": ".py",
   "mimetype": "text/x-python",
   "name": "python",
   "nbconvert_exporter": "python",
   "pygments_lexer": "ipython3",
   "version": "3.7.1"
  }
 },
 "nbformat": 4,
 "nbformat_minor": 2
}
