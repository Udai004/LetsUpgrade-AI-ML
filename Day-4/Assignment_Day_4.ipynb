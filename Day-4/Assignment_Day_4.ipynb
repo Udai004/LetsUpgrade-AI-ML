{
 "cells": [
  {
   "cell_type": "markdown",
   "metadata": {},
   "source": [
    "Question 1 :\n",
    "Research on whether addition, subtraction, multiplication, division, floor division and modulo\n",
    "operations be performed on complex numbers. Based on your study, implement a Python\n",
    "program to demonstrate these operations.\n",
    "\n",
    "Question 2 :\n",
    "Research on range() functions and its parameters. Create a markdown cell and write in your own\n",
    "words (no copy-paste from google please) what you understand about it. Implement a small\n",
    "program of your choice on the same.\n",
    "\n",
    "Question 3:\n",
    "Consider two numbers. Perform their subtraction and if the result of subtraction is greater than\n",
    "25, print their multiplication result else print their division result.\n",
    "\n",
    "Question 4:\n",
    "Consider a list of 10 elements of integer values. If the number in the list is divisible by 2, print the\n",
    "result as \"square of that number minus 2\".\n",
    "\n",
    "Question 5:\n",
    "Consider a list of 10 elements. Print all the elements in the list which are greater than 7 when that\n",
    "number is divided 2."
   ]
  },
  {
   "cell_type": "code",
   "execution_count": 3,
   "metadata": {},
   "outputs": [
    {
     "name": "stdout",
     "output_type": "stream",
     "text": [
      "Result of Addition is  (4-2j)\n",
      "Result of Subtraction is  (-2+6j)\n",
      "Result of Multiplication is  (11+2j)\n",
      "Result of Division is  (-0.2+0.4j)\n"
     ]
    },
    {
     "ename": "TypeError",
     "evalue": "can't mod complex numbers.",
     "output_type": "error",
     "traceback": [
      "\u001b[1;31m---------------------------------------------------------------------------\u001b[0m",
      "\u001b[1;31mTypeError\u001b[0m                                 Traceback (most recent call last)",
      "\u001b[1;32m<ipython-input-3-f3e73c3f1ca1>\u001b[0m in \u001b[0;36m<module>\u001b[1;34m\u001b[0m\n\u001b[0;32m     13\u001b[0m \u001b[0mprint\u001b[0m\u001b[1;33m(\u001b[0m\u001b[1;34m\"Result of Multiplication is \"\u001b[0m\u001b[1;33m,\u001b[0m \u001b[0ma\u001b[0m\u001b[1;33m*\u001b[0m\u001b[0mb\u001b[0m\u001b[1;33m)\u001b[0m\u001b[1;33m\u001b[0m\u001b[1;33m\u001b[0m\u001b[0m\n\u001b[0;32m     14\u001b[0m \u001b[0mprint\u001b[0m\u001b[1;33m(\u001b[0m\u001b[1;34m\"Result of Division is \"\u001b[0m\u001b[1;33m,\u001b[0m \u001b[0ma\u001b[0m\u001b[1;33m/\u001b[0m\u001b[0mb\u001b[0m\u001b[1;33m)\u001b[0m\u001b[1;33m\u001b[0m\u001b[1;33m\u001b[0m\u001b[0m\n\u001b[1;32m---> 15\u001b[1;33m \u001b[0mprint\u001b[0m\u001b[1;33m(\u001b[0m\u001b[1;34m\"Result of modulo division is \"\u001b[0m\u001b[1;33m,\u001b[0m \u001b[0ma\u001b[0m\u001b[1;33m%\u001b[0m\u001b[0mb\u001b[0m\u001b[1;33m)\u001b[0m\u001b[1;33m\u001b[0m\u001b[1;33m\u001b[0m\u001b[0m\n\u001b[0m\u001b[0;32m     16\u001b[0m \u001b[1;33m\u001b[0m\u001b[0m\n\u001b[0;32m     17\u001b[0m \u001b[1;33m\u001b[0m\u001b[0m\n",
      "\u001b[1;31mTypeError\u001b[0m: can't mod complex numbers."
     ]
    }
   ],
   "source": [
    "# Question 1 : Research on whether addition, subtraction, multiplication, division, floor division \n",
    "#     and modulo operations be performed on complex numbers. Based on your study, implement a Python\n",
    "#     program to demonstrate these operations.\n",
    "    \n",
    "    \n",
    "# Answer:\n",
    "\n",
    "a= 1+2j\n",
    "b = 3-4j\n",
    "\n",
    "print(\"Result of Addition is \", a+b)\n",
    "print(\"Result of Subtraction is \", a-b)\n",
    "print(\"Result of Multiplication is \", a*b)\n",
    "print(\"Result of Division is \", a/b)\n",
    "print(\"Result of modulo division is \", a%b)\n",
    "\n",
    "\n"
   ]
  },
  {
   "cell_type": "code",
   "execution_count": 4,
   "metadata": {},
   "outputs": [
    {
     "ename": "TypeError",
     "evalue": "can't take floor of complex number.",
     "output_type": "error",
     "traceback": [
      "\u001b[1;31m---------------------------------------------------------------------------\u001b[0m",
      "\u001b[1;31mTypeError\u001b[0m                                 Traceback (most recent call last)",
      "\u001b[1;32m<ipython-input-4-8edea36ea996>\u001b[0m in \u001b[0;36m<module>\u001b[1;34m\u001b[0m\n\u001b[1;32m----> 1\u001b[1;33m \u001b[0mprint\u001b[0m\u001b[1;33m(\u001b[0m\u001b[1;34m\"Result of floor division is \"\u001b[0m\u001b[1;33m,\u001b[0m \u001b[0ma\u001b[0m\u001b[1;33m//\u001b[0m\u001b[0mb\u001b[0m\u001b[1;33m)\u001b[0m\u001b[1;33m\u001b[0m\u001b[1;33m\u001b[0m\u001b[0m\n\u001b[0m",
      "\u001b[1;31mTypeError\u001b[0m: can't take floor of complex number."
     ]
    }
   ],
   "source": [
    "print(\"Result of floor division is \", a//b)"
   ]
  },
  {
   "cell_type": "markdown",
   "metadata": {},
   "source": [
    "## So concluding that floor and modulo operations cant be done on complex numbers"
   ]
  },
  {
   "cell_type": "markdown",
   "metadata": {},
   "source": [
    "### Question 2 : Research on range() functions and its parameters. Create a markdown cell and write in your own words \n",
    "###    (no copy-paste from google please) what you understand about it. \n",
    "###     Implement a small program of your choice on the same.\n",
    "\n",
    "\n",
    " ### Answer: \n",
    "\n",
    "range(start, stop , step)\n",
    "\n",
    "Range() function has 3 parameters:\n",
    "    \n",
    "    Start: this will help to identify at which position the range function should start\n",
    "    \n",
    "    Stop: this will help to identify at which position range function should end\n",
    "    \n",
    "    Step: Step is nothing but the increment way to the next integer of sequence . Default step size is 1\n",
    "        \n",
    "        for ex: if we specify step size as 2, and let us assume start index is 1 and end index is 10,\n",
    "            so the range fun will return 1,3,5,7,9 values. Because range fun will always consider stop value -1 th index."
   ]
  },
  {
   "cell_type": "code",
   "execution_count": 5,
   "metadata": {},
   "outputs": [
    {
     "name": "stdout",
     "output_type": "stream",
     "text": [
      "1\n",
      "3\n",
      "5\n",
      "7\n",
      "9\n"
     ]
    }
   ],
   "source": [
    "# Sample programmeL\n",
    "\n",
    "for i in range (1,10 ,2):\n",
    "    print(i)"
   ]
  },
  {
   "cell_type": "markdown",
   "metadata": {},
   "source": [
    "#### Here observed that start index is 1 and end index is 10 and step size is 2 and ouput is as observed."
   ]
  },
  {
   "cell_type": "code",
   "execution_count": 8,
   "metadata": {},
   "outputs": [
    {
     "name": "stdout",
     "output_type": "stream",
     "text": [
      "enter the first number: 99\n",
      "enter the second number: 98\n",
      " The division result is :  1.010204081632653\n"
     ]
    }
   ],
   "source": [
    "# Question 3: Consider two numbers. Perform their subtraction and if the result \n",
    "#     of subtraction is greater than 25, print their multiplication result \n",
    "#     else print their division result.\n",
    "\n",
    "# Answer\n",
    "\n",
    "a = input('enter the first number: ')\n",
    "b = input('enter the second number: ')\n",
    "\n",
    "c = float(a) - float(b)\n",
    "\n",
    "if ( c > 25):\n",
    "    print (' The multiplication result is : ', float(a) * float(b))\n",
    "else:\n",
    "    print(\" The division result is : \", float(a)/float(b))"
   ]
  },
  {
   "cell_type": "code",
   "execution_count": 10,
   "metadata": {},
   "outputs": [
    {
     "name": "stdout",
     "output_type": "stream",
     "text": [
      "square of  2  minus 2  is : 2\n",
      "square of  4  minus 2  is : 14\n",
      "square of  6  minus 2  is : 34\n",
      "square of  8  minus 2  is : 62\n",
      "square of  10  minus 2  is : 98\n"
     ]
    }
   ],
   "source": [
    "# Question 4: Consider a list of 10 elements of integer values. \n",
    "#     If the number in the list is divisible by 2, print the result\n",
    "#     as \"square of that number minus 2\".\n",
    "\n",
    "\n",
    "#Answer:\n",
    "lst = [1,2,3,4,5,6,7,8,9,10]\n",
    "\n",
    "for i in lst:\n",
    "    if i%2 == 0:\n",
    "        print(\"square of \", i ,' minus 2  is :',i**2 -2 )\n",
    "\n"
   ]
  },
  {
   "cell_type": "code",
   "execution_count": 14,
   "metadata": {},
   "outputs": [
    {
     "name": "stdout",
     "output_type": "stream",
     "text": [
      " The length of list is  10\n",
      "\n",
      "\n",
      " The List what we have :  [5, 6, 7, 8, 9, 10, 11, 12, 13, 14]\n",
      "\n",
      "\n",
      " The values which are divisible by 7 and same number is divided by 2 are :\n",
      "8\n",
      "10\n",
      "12\n",
      "14\n"
     ]
    }
   ],
   "source": [
    "# Question 5: Consider a list of 10 elements. \n",
    "#     Print all the elements in the list which are greater than 7 when that number is divided 2.\n",
    "    \n",
    "#Answer:\n",
    "\n",
    "lst = [5,6,7,8,9,10,11,12,13,14]\n",
    "print(\" The length of list is \", len(lst))\n",
    "print('\\n')\n",
    "print (\" The List what we have : \" ,lst)\n",
    "print('\\n')\n",
    "print(\" The values which are divisible by 7 and same number is divided by 2 are :\")\n",
    "for i in lst :\n",
    "    if i > 7 and i %2 ==0:\n",
    "        print(i)"
   ]
  },
  {
   "cell_type": "code",
   "execution_count": null,
   "metadata": {},
   "outputs": [],
   "source": []
  },
  {
   "cell_type": "code",
   "execution_count": null,
   "metadata": {},
   "outputs": [],
   "source": []
  },
  {
   "cell_type": "code",
   "execution_count": null,
   "metadata": {},
   "outputs": [],
   "source": []
  }
 ],
 "metadata": {
  "kernelspec": {
   "display_name": "Python 3",
   "language": "python",
   "name": "python3"
  },
  "language_info": {
   "codemirror_mode": {
    "name": "ipython",
    "version": 3
   },
   "file_extension": ".py",
   "mimetype": "text/x-python",
   "name": "python",
   "nbconvert_exporter": "python",
   "pygments_lexer": "ipython3",
   "version": "3.7.1"
  }
 },
 "nbformat": 4,
 "nbformat_minor": 2
}
