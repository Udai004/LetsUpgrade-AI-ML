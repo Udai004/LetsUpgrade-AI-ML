{
 "cells": [
  {
   "cell_type": "markdown",
   "metadata": {},
   "source": [
    "Question 1 :\n",
    "Write a program to subtract two complex numbers in Python.\n",
    "Question 2 :\n",
    "Write a program to find the fourth root of a number.\n",
    "Question 3:\n",
    "Write a program to swap two numbers in Python with the help of a temporary variable.\n",
    "Question 4:\n",
    "Write a program to swap two numbers in Python without using a temporary variable.\n",
    "Question 5:\n",
    "Write a program to convert fahrenheit to kelvin and celsius both.\n",
    "Question 6:\n",
    "Write a program to demonstrate all the available data types in Python. Hint: Use type() function.\n",
    "Question 7:\n",
    "Create a Markdown cell in jupyter and list the steps discussed in the session by Dr. Darshan\n",
    "Ingle sir to create Github profile and upload Githubs Assignment link."
   ]
  },
  {
   "cell_type": "code",
   "execution_count": 4,
   "metadata": {},
   "outputs": [
    {
     "name": "stdout",
     "output_type": "stream",
     "text": [
      "Result for solution 1 is :  (1-4j)\n",
      "Result 2 for solution 2 is : (-7+10j) \n"
     ]
    }
   ],
   "source": [
    "# Question 1 :\n",
    "# Write a program to subtract two complex numbers in Python.\n",
    "\n",
    "# Answer\n",
    "\n",
    "# Solution1 : To subtract directly\n",
    "print('Result for solution 1 is : ', (4+2j)- (3+6j))\n",
    "\n",
    "\n",
    "#Solution 2 : to assign complex numbers to variables and subtracting\n",
    "a= 2+8j\n",
    "b=9-2j\n",
    "res = a-b\n",
    "print(f'Result 2 for solution 2 is : {res} ')"
   ]
  },
  {
   "cell_type": "code",
   "execution_count": 9,
   "metadata": {},
   "outputs": [
    {
     "name": "stdout",
     "output_type": "stream",
     "text": [
      "Enter the number to find the fourth root of the number : 32\n",
      "The fourth root is :  2.378414230005442\n"
     ]
    }
   ],
   "source": [
    "# Question 2 :\n",
    "# Write a program to find the fourth root of a number.\n",
    "\n",
    "# Answer\n",
    "import math\n",
    "def f(num):\n",
    "    res= print('The fourth root is : ', math.sqrt(math.sqrt(num)))\n",
    "    return res\n",
    "\n",
    "a= input('Enter the number to find the fourth root of the number : ')\n",
    "\n",
    "# calling the function f(num)\n",
    "f(int(a))\n",
    "\n",
    "\n"
   ]
  },
  {
   "cell_type": "code",
   "execution_count": 12,
   "metadata": {},
   "outputs": [
    {
     "name": "stdout",
     "output_type": "stream",
     "text": [
      "Value of a : 12 and b : 13 before swapping\n",
      "Value of a : 13 and b : 12 after swapping\n"
     ]
    }
   ],
   "source": [
    "# Question 3:\n",
    "# Write a program to swap two numbers in Python with the help of a temporary variable.\n",
    "\n",
    "#Answer\n",
    "\n",
    "a= 12\n",
    "b=13\n",
    "print(f'Value of a : {a} and b : {b} before swapping')\n",
    "\n",
    "# Here C is temporary variable\n",
    "c= a\n",
    "a=b\n",
    "b=c\n",
    "print(f'Value of a : {a} and b : {b} after swapping')\n",
    "\n",
    "\n"
   ]
  },
  {
   "cell_type": "code",
   "execution_count": 13,
   "metadata": {},
   "outputs": [
    {
     "name": "stdout",
     "output_type": "stream",
     "text": [
      "Value of a : 12 and b : 13 before swapping\n",
      "Value of a : 13 and b : 12 after swapping\n"
     ]
    }
   ],
   "source": [
    "# Question 4:\n",
    "# Write a program to swap two numbers in Python without using a temporary variable.\n",
    "\n",
    "a= 12\n",
    "b=13\n",
    "print(f'Value of a : {a} and b : {b} before swapping')\n",
    "\n",
    "a,b = b,a\n",
    "print(f'Value of a : {a} and b : {b} after swapping')\n",
    "\n",
    "\n"
   ]
  },
  {
   "cell_type": "code",
   "execution_count": 14,
   "metadata": {},
   "outputs": [
    {
     "name": "stdout",
     "output_type": "stream",
     "text": [
      " Enter Ferenheit (Degree) : 100\n",
      " Temperature :  37.77777777777778  Degree Celsius &  100.0  Degree Fahrenheit &  310.77777777777777  Kelvin\n"
     ]
    }
   ],
   "source": [
    "# Question 5:\n",
    "# Write a program to convert fahrenheit to kelvin and celsius both.\n",
    "\n",
    "#Answer:\n",
    "\n",
    "def fck():\n",
    "    f = float(input(\" Enter Ferenheit (Degree) : \"))\n",
    "    c = (5 * (f - 32)) / 9\n",
    "    k = c +273\n",
    "    print (\" Temperature : \",c,\" Degree Celsius & \",f,\" Degree Fahrenheit & \",k,\" Kelvin\")\n",
    "\n",
    "fck()\n",
    "\n",
    "\n"
   ]
  },
  {
   "cell_type": "code",
   "execution_count": 15,
   "metadata": {},
   "outputs": [
    {
     "name": "stdout",
     "output_type": "stream",
     "text": [
      "<class 'int'>\n",
      "<class 'float'>\n",
      "<class 'str'>\n",
      "<class 'list'>\n",
      "<class 'set'>\n",
      "<class 'tuple'>\n"
     ]
    }
   ],
   "source": [
    "# Question 6:\n",
    "# Write a program to demonstrate all the available data types in Python. Hint: Use type() function.\n",
    "\n",
    "\n",
    "#Answers\n",
    "\n",
    "a=10\n",
    "b = 10.2\n",
    "c= 'LetsUpgrade'\n",
    "d=[1,2,3,10]\n",
    "e= {1,1,2,2,3,5}\n",
    "f= (1,2,3,9,10)\n",
    "print(type(a))\n",
    "print(type(b))\n",
    "print(type(c))\n",
    "print(type(d))\n",
    "print(type(e))\n",
    "print(type(f))\n",
    "\n"
   ]
  },
  {
   "cell_type": "markdown",
   "metadata": {},
   "source": [
    "Question 7:\n",
    "Create a Markdown cell in jupyter and list the steps discussed in the session by Dr. Darshan\n",
    "\n",
    "Answer :\n",
    "\n",
    "Firstly , we had got instructions how to download python and how to configure anaconda.\n",
    "\n",
    "We had learned different ways of opening ipynb files i.e., through file explorer, Anaconda software, cmd.\n",
    "\n",
    "We had learned how to use Google colab and kaggle notebooks.\n",
    "\n",
    "Later we learnt about keywords, and how to get cwd and where we can save file and how to comment.\n",
    "\n",
    "And later we learnt how to create and submit assgnments in GITHUB.\n",
    "\n",
    "Steps:\n",
    "\n",
    "1) first we need to login/signup to GITHUB.\n",
    "\n",
    "2) Create a repository and it should be in public all time.\n",
    "\n",
    "3) Add required files and need to commit.\n",
    "\n",
    "4) If not required , we can remove repository.\n",
    "\n"
   ]
  },
  {
   "cell_type": "code",
   "execution_count": null,
   "metadata": {},
   "outputs": [],
   "source": []
  }
 ],
 "metadata": {
  "kernelspec": {
   "display_name": "Python 3",
   "language": "python",
   "name": "python3"
  },
  "language_info": {
   "codemirror_mode": {
    "name": "ipython",
    "version": 3
   },
   "file_extension": ".py",
   "mimetype": "text/x-python",
   "name": "python",
   "nbconvert_exporter": "python",
   "pygments_lexer": "ipython3",
   "version": "3.7.1"
  }
 },
 "nbformat": 4,
 "nbformat_minor": 2
}
